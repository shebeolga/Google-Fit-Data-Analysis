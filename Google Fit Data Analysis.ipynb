{
 "cells": [
  {
   "cell_type": "markdown",
   "metadata": {},
   "source": [
    "# My Google Fit Data Analysis\n",
    "## 1. Explanation\n",
    "Google Fit is an application that I installed on my phone in September 2019 to push myself to do some sports. After several months of using it I became interested in results, effectiveness, and the way I do my everyday sports activities: have I become more sportive, how much time I invest in sport, am I committed to the sport, and what is the best kind of sport for me?\n",
    "\n",
    "To answer all these questions I decided to make some kind of exploration.\n",
    "\n",
    "First, we download all the necessary Google Fit data from Google's Takeout system. It gave us several files for each day of the given period and the file with aggregated data. We will work with the last one as it has all information for the given period we need.\n",
    "\n",
    "Now let's start with importing the necessary modules."
   ]
  },
  {
   "cell_type": "code",
   "execution_count": 1,
   "metadata": {},
   "outputs": [],
   "source": [
    "import numpy as np\n",
    "import pandas as pd\n",
    "import matplotlib.pyplot as plt\n",
    "\n",
    "from pandas.plotting import register_matplotlib_converters\n",
    "register_matplotlib_converters()\n",
    "\n",
    "%matplotlib inline"
   ]
  },
  {
   "cell_type": "markdown",
   "metadata": {},
   "source": [
    "## 2. Data description\n",
    "We start to work with the large merged file which contains all data about my everyday activities during the period. First, we need to read data from the file."
   ]
  },
  {
   "cell_type": "code",
   "execution_count": 2,
   "metadata": {},
   "outputs": [],
   "source": [
    "data = pd.read_csv('google-fit-data-file.csv')"
   ]
  },
  {
   "cell_type": "markdown",
   "metadata": {},
   "source": [
    "Let's take a quick first look at our data."
   ]
  },
  {
   "cell_type": "code",
   "execution_count": 3,
   "metadata": {},
   "outputs": [
    {
     "name": "stdout",
     "output_type": "stream",
     "text": [
      "<class 'pandas.core.frame.DataFrame'>\n",
      "RangeIndex: 92 entries, 0 to 91\n",
      "Data columns (total 25 columns):\n",
      " #   Column                       Non-Null Count  Dtype  \n",
      "---  ------                       --------------  -----  \n",
      " 0   Date                         92 non-null     object \n",
      " 1   Calories (kcal)              92 non-null     float64\n",
      " 2   Distance (m)                 91 non-null     float64\n",
      " 3   Height (m)                   0 non-null      float64\n",
      " 4   Min. latitude (deg.)         84 non-null     float64\n",
      " 5   Min. longitude (deg.)        84 non-null     float64\n",
      " 6   Max. latitude (deg.)         84 non-null     float64\n",
      " 7   Max. longitude (deg.)        84 non-null     float64\n",
      " 8   Average Speed (m/s)          92 non-null     float64\n",
      " 9   Max. Speed (m/s)             92 non-null     float64\n",
      " 10  Min. Speed (m/s)             92 non-null     float64\n",
      " 11  Number of Steps              92 non-null     int64  \n",
      " 12  Average weight (kg)          10 non-null     float64\n",
      " 13  Max. weight (kg)             10 non-null     float64\n",
      " 14  Min. weight (kg)             10 non-null     float64\n",
      " 15  Active Minutes               90 non-null     float64\n",
      " 16  Heart Beats                  0 non-null      float64\n",
      " 17  Duration: Rest (ms)          92 non-null     int64  \n",
      " 18  Duration: Walking (ms)       89 non-null     float64\n",
      " 19  Duration: Running (ms)       5 non-null      float64\n",
      " 20  Duration: Calisthenics (ms)  10 non-null     float64\n",
      " 21  Duration: Gymnastics (ms)    1 non-null      float64\n",
      " 22  Duration: Pilates (ms)       3 non-null      float64\n",
      " 23  Duration: Sleeping (ms)      16 non-null     float64\n",
      " 24  Duration: Swimming (ms)      14 non-null     float64\n",
      "dtypes: float64(22), int64(2), object(1)\n",
      "memory usage: 18.1+ KB\n"
     ]
    }
   ],
   "source": [
    "data.info()"
   ]
  },
  {
   "cell_type": "markdown",
   "metadata": {},
   "source": [
    "We see that our data set has 107 rows and 25 columns (including the index column). We have pretty many empty cells. Some data are absent at all (like Height and Heart Points). \n",
    "\n",
    "Let's look at the data description attribute to find more information about the data."
   ]
  },
  {
   "cell_type": "code",
   "execution_count": 4,
   "metadata": {},
   "outputs": [
    {
     "data": {
      "text/html": [
       "<div>\n",
       "<style scoped>\n",
       "    .dataframe tbody tr th:only-of-type {\n",
       "        vertical-align: middle;\n",
       "    }\n",
       "\n",
       "    .dataframe tbody tr th {\n",
       "        vertical-align: top;\n",
       "    }\n",
       "\n",
       "    .dataframe thead th {\n",
       "        text-align: right;\n",
       "    }\n",
       "</style>\n",
       "<table border=\"1\" class=\"dataframe\">\n",
       "  <thead>\n",
       "    <tr style=\"text-align: right;\">\n",
       "      <th></th>\n",
       "      <th>Calories (kcal)</th>\n",
       "      <th>Distance (m)</th>\n",
       "      <th>Height (m)</th>\n",
       "      <th>Min. latitude (deg.)</th>\n",
       "      <th>Min. longitude (deg.)</th>\n",
       "      <th>Max. latitude (deg.)</th>\n",
       "      <th>Max. longitude (deg.)</th>\n",
       "      <th>Average Speed (m/s)</th>\n",
       "      <th>Max. Speed (m/s)</th>\n",
       "      <th>Min. Speed (m/s)</th>\n",
       "      <th>...</th>\n",
       "      <th>Active Minutes</th>\n",
       "      <th>Heart Beats</th>\n",
       "      <th>Duration: Rest (ms)</th>\n",
       "      <th>Duration: Walking (ms)</th>\n",
       "      <th>Duration: Running (ms)</th>\n",
       "      <th>Duration: Calisthenics (ms)</th>\n",
       "      <th>Duration: Gymnastics (ms)</th>\n",
       "      <th>Duration: Pilates (ms)</th>\n",
       "      <th>Duration: Sleeping (ms)</th>\n",
       "      <th>Duration: Swimming (ms)</th>\n",
       "    </tr>\n",
       "  </thead>\n",
       "  <tbody>\n",
       "    <tr>\n",
       "      <th>count</th>\n",
       "      <td>92.000000</td>\n",
       "      <td>91.000000</td>\n",
       "      <td>0.0</td>\n",
       "      <td>84.000000</td>\n",
       "      <td>84.000000</td>\n",
       "      <td>84.000000</td>\n",
       "      <td>84.000000</td>\n",
       "      <td>92.000000</td>\n",
       "      <td>92.000000</td>\n",
       "      <td>92.000000</td>\n",
       "      <td>...</td>\n",
       "      <td>90.000000</td>\n",
       "      <td>0.0</td>\n",
       "      <td>9.200000e+01</td>\n",
       "      <td>8.900000e+01</td>\n",
       "      <td>5.000000</td>\n",
       "      <td>1.000000e+01</td>\n",
       "      <td>1.0</td>\n",
       "      <td>3.000000e+00</td>\n",
       "      <td>1.600000e+01</td>\n",
       "      <td>1.400000e+01</td>\n",
       "    </tr>\n",
       "    <tr>\n",
       "      <th>mean</th>\n",
       "      <td>1671.564602</td>\n",
       "      <td>4422.620082</td>\n",
       "      <td>NaN</td>\n",
       "      <td>31.799342</td>\n",
       "      <td>35.212891</td>\n",
       "      <td>31.824774</td>\n",
       "      <td>35.237536</td>\n",
       "      <td>1.006900</td>\n",
       "      <td>7.957968</td>\n",
       "      <td>0.209758</td>\n",
       "      <td>...</td>\n",
       "      <td>90.255556</td>\n",
       "      <td>NaN</td>\n",
       "      <td>7.454426e+07</td>\n",
       "      <td>4.703561e+06</td>\n",
       "      <td>281016.200000</td>\n",
       "      <td>1.065144e+06</td>\n",
       "      <td>900000.0</td>\n",
       "      <td>1.140000e+06</td>\n",
       "      <td>2.205371e+07</td>\n",
       "      <td>1.714286e+06</td>\n",
       "    </tr>\n",
       "    <tr>\n",
       "      <th>std</th>\n",
       "      <td>161.430826</td>\n",
       "      <td>2462.739460</td>\n",
       "      <td>NaN</td>\n",
       "      <td>0.022581</td>\n",
       "      <td>0.085108</td>\n",
       "      <td>0.026824</td>\n",
       "      <td>0.068218</td>\n",
       "      <td>0.501467</td>\n",
       "      <td>8.433114</td>\n",
       "      <td>0.131493</td>\n",
       "      <td>...</td>\n",
       "      <td>43.523611</td>\n",
       "      <td>NaN</td>\n",
       "      <td>1.038348e+07</td>\n",
       "      <td>2.372510e+06</td>\n",
       "      <td>172330.106739</td>\n",
       "      <td>8.926918e+05</td>\n",
       "      <td>NaN</td>\n",
       "      <td>2.078461e+05</td>\n",
       "      <td>7.890282e+06</td>\n",
       "      <td>2.178819e+05</td>\n",
       "    </tr>\n",
       "    <tr>\n",
       "      <th>min</th>\n",
       "      <td>1394.999973</td>\n",
       "      <td>9.826136</td>\n",
       "      <td>NaN</td>\n",
       "      <td>31.742452</td>\n",
       "      <td>34.617171</td>\n",
       "      <td>31.774349</td>\n",
       "      <td>34.622534</td>\n",
       "      <td>0.436250</td>\n",
       "      <td>1.108203</td>\n",
       "      <td>0.000000</td>\n",
       "      <td>...</td>\n",
       "      <td>2.000000</td>\n",
       "      <td>NaN</td>\n",
       "      <td>4.206763e+07</td>\n",
       "      <td>5.019520e+05</td>\n",
       "      <td>61073.000000</td>\n",
       "      <td>2.000000e+05</td>\n",
       "      <td>900000.0</td>\n",
       "      <td>9.000000e+05</td>\n",
       "      <td>1.080000e+07</td>\n",
       "      <td>1.200000e+06</td>\n",
       "    </tr>\n",
       "    <tr>\n",
       "      <th>25%</th>\n",
       "      <td>1551.378545</td>\n",
       "      <td>2811.509448</td>\n",
       "      <td>NaN</td>\n",
       "      <td>31.780446</td>\n",
       "      <td>35.212736</td>\n",
       "      <td>31.821702</td>\n",
       "      <td>35.244479</td>\n",
       "      <td>0.764754</td>\n",
       "      <td>1.920028</td>\n",
       "      <td>0.110487</td>\n",
       "      <td>...</td>\n",
       "      <td>56.000000</td>\n",
       "      <td>NaN</td>\n",
       "      <td>7.392789e+07</td>\n",
       "      <td>2.910461e+06</td>\n",
       "      <td>183111.000000</td>\n",
       "      <td>2.485000e+05</td>\n",
       "      <td>900000.0</td>\n",
       "      <td>1.080000e+06</td>\n",
       "      <td>1.530000e+07</td>\n",
       "      <td>1.800000e+06</td>\n",
       "    </tr>\n",
       "    <tr>\n",
       "      <th>50%</th>\n",
       "      <td>1673.465328</td>\n",
       "      <td>4488.117582</td>\n",
       "      <td>NaN</td>\n",
       "      <td>31.815897</td>\n",
       "      <td>35.235068</td>\n",
       "      <td>31.821911</td>\n",
       "      <td>35.244996</td>\n",
       "      <td>0.887309</td>\n",
       "      <td>3.684710</td>\n",
       "      <td>0.244696</td>\n",
       "      <td>...</td>\n",
       "      <td>92.500000</td>\n",
       "      <td>NaN</td>\n",
       "      <td>7.750199e+07</td>\n",
       "      <td>4.767889e+06</td>\n",
       "      <td>253237.000000</td>\n",
       "      <td>7.887190e+05</td>\n",
       "      <td>900000.0</td>\n",
       "      <td>1.260000e+06</td>\n",
       "      <td>2.520000e+07</td>\n",
       "      <td>1.800000e+06</td>\n",
       "    </tr>\n",
       "    <tr>\n",
       "      <th>75%</th>\n",
       "      <td>1749.411463</td>\n",
       "      <td>6152.173436</td>\n",
       "      <td>NaN</td>\n",
       "      <td>31.819108</td>\n",
       "      <td>35.239595</td>\n",
       "      <td>31.825102</td>\n",
       "      <td>35.246147</td>\n",
       "      <td>1.064180</td>\n",
       "      <td>11.598887</td>\n",
       "      <td>0.269737</td>\n",
       "      <td>...</td>\n",
       "      <td>120.750000</td>\n",
       "      <td>NaN</td>\n",
       "      <td>8.112176e+07</td>\n",
       "      <td>6.153867e+06</td>\n",
       "      <td>440998.000000</td>\n",
       "      <td>1.958250e+06</td>\n",
       "      <td>900000.0</td>\n",
       "      <td>1.260000e+06</td>\n",
       "      <td>2.700000e+07</td>\n",
       "      <td>1.800000e+06</td>\n",
       "    </tr>\n",
       "    <tr>\n",
       "      <th>max</th>\n",
       "      <td>2194.633801</td>\n",
       "      <td>12104.869270</td>\n",
       "      <td>NaN</td>\n",
       "      <td>31.821598</td>\n",
       "      <td>35.249029</td>\n",
       "      <td>32.055741</td>\n",
       "      <td>35.253858</td>\n",
       "      <td>4.709789</td>\n",
       "      <td>35.490002</td>\n",
       "      <td>0.686688</td>\n",
       "      <td>...</td>\n",
       "      <td>203.000000</td>\n",
       "      <td>NaN</td>\n",
       "      <td>8.640000e+07</td>\n",
       "      <td>1.179509e+07</td>\n",
       "      <td>466662.000000</td>\n",
       "      <td>2.205000e+06</td>\n",
       "      <td>900000.0</td>\n",
       "      <td>1.260000e+06</td>\n",
       "      <td>3.359944e+07</td>\n",
       "      <td>1.800000e+06</td>\n",
       "    </tr>\n",
       "  </tbody>\n",
       "</table>\n",
       "<p>8 rows × 24 columns</p>\n",
       "</div>"
      ],
      "text/plain": [
       "       Calories (kcal)  Distance (m)  Height (m)  Min. latitude (deg.)  \\\n",
       "count        92.000000     91.000000         0.0             84.000000   \n",
       "mean       1671.564602   4422.620082         NaN             31.799342   \n",
       "std         161.430826   2462.739460         NaN              0.022581   \n",
       "min        1394.999973      9.826136         NaN             31.742452   \n",
       "25%        1551.378545   2811.509448         NaN             31.780446   \n",
       "50%        1673.465328   4488.117582         NaN             31.815897   \n",
       "75%        1749.411463   6152.173436         NaN             31.819108   \n",
       "max        2194.633801  12104.869270         NaN             31.821598   \n",
       "\n",
       "       Min. longitude (deg.)  Max. latitude (deg.)  Max. longitude (deg.)  \\\n",
       "count              84.000000             84.000000              84.000000   \n",
       "mean               35.212891             31.824774              35.237536   \n",
       "std                 0.085108              0.026824               0.068218   \n",
       "min                34.617171             31.774349              34.622534   \n",
       "25%                35.212736             31.821702              35.244479   \n",
       "50%                35.235068             31.821911              35.244996   \n",
       "75%                35.239595             31.825102              35.246147   \n",
       "max                35.249029             32.055741              35.253858   \n",
       "\n",
       "       Average Speed (m/s)  Max. Speed (m/s)  Min. Speed (m/s)  ...  \\\n",
       "count            92.000000         92.000000         92.000000  ...   \n",
       "mean              1.006900          7.957968          0.209758  ...   \n",
       "std               0.501467          8.433114          0.131493  ...   \n",
       "min               0.436250          1.108203          0.000000  ...   \n",
       "25%               0.764754          1.920028          0.110487  ...   \n",
       "50%               0.887309          3.684710          0.244696  ...   \n",
       "75%               1.064180         11.598887          0.269737  ...   \n",
       "max               4.709789         35.490002          0.686688  ...   \n",
       "\n",
       "       Active Minutes  Heart Beats  Duration: Rest (ms)  \\\n",
       "count       90.000000          0.0         9.200000e+01   \n",
       "mean        90.255556          NaN         7.454426e+07   \n",
       "std         43.523611          NaN         1.038348e+07   \n",
       "min          2.000000          NaN         4.206763e+07   \n",
       "25%         56.000000          NaN         7.392789e+07   \n",
       "50%         92.500000          NaN         7.750199e+07   \n",
       "75%        120.750000          NaN         8.112176e+07   \n",
       "max        203.000000          NaN         8.640000e+07   \n",
       "\n",
       "       Duration: Walking (ms)  Duration: Running (ms)  \\\n",
       "count            8.900000e+01                5.000000   \n",
       "mean             4.703561e+06           281016.200000   \n",
       "std              2.372510e+06           172330.106739   \n",
       "min              5.019520e+05            61073.000000   \n",
       "25%              2.910461e+06           183111.000000   \n",
       "50%              4.767889e+06           253237.000000   \n",
       "75%              6.153867e+06           440998.000000   \n",
       "max              1.179509e+07           466662.000000   \n",
       "\n",
       "       Duration: Calisthenics (ms)  Duration: Gymnastics (ms)  \\\n",
       "count                 1.000000e+01                        1.0   \n",
       "mean                  1.065144e+06                   900000.0   \n",
       "std                   8.926918e+05                        NaN   \n",
       "min                   2.000000e+05                   900000.0   \n",
       "25%                   2.485000e+05                   900000.0   \n",
       "50%                   7.887190e+05                   900000.0   \n",
       "75%                   1.958250e+06                   900000.0   \n",
       "max                   2.205000e+06                   900000.0   \n",
       "\n",
       "       Duration: Pilates (ms)  Duration: Sleeping (ms)  \\\n",
       "count            3.000000e+00             1.600000e+01   \n",
       "mean             1.140000e+06             2.205371e+07   \n",
       "std              2.078461e+05             7.890282e+06   \n",
       "min              9.000000e+05             1.080000e+07   \n",
       "25%              1.080000e+06             1.530000e+07   \n",
       "50%              1.260000e+06             2.520000e+07   \n",
       "75%              1.260000e+06             2.700000e+07   \n",
       "max              1.260000e+06             3.359944e+07   \n",
       "\n",
       "       Duration: Swimming (ms)  \n",
       "count             1.400000e+01  \n",
       "mean              1.714286e+06  \n",
       "std               2.178819e+05  \n",
       "min               1.200000e+06  \n",
       "25%               1.800000e+06  \n",
       "50%               1.800000e+06  \n",
       "75%               1.800000e+06  \n",
       "max               1.800000e+06  \n",
       "\n",
       "[8 rows x 24 columns]"
      ]
     },
     "execution_count": 4,
     "metadata": {},
     "output_type": "execute_result"
    }
   ],
   "source": [
    "data.describe()"
   ]
  },
  {
   "cell_type": "markdown",
   "metadata": {},
   "source": [
    "Also, we want to look at the beginning and the end of the data table."
   ]
  },
  {
   "cell_type": "code",
   "execution_count": 5,
   "metadata": {},
   "outputs": [
    {
     "data": {
      "text/html": [
       "<div>\n",
       "<style scoped>\n",
       "    .dataframe tbody tr th:only-of-type {\n",
       "        vertical-align: middle;\n",
       "    }\n",
       "\n",
       "    .dataframe tbody tr th {\n",
       "        vertical-align: top;\n",
       "    }\n",
       "\n",
       "    .dataframe thead th {\n",
       "        text-align: right;\n",
       "    }\n",
       "</style>\n",
       "<table border=\"1\" class=\"dataframe\">\n",
       "  <thead>\n",
       "    <tr style=\"text-align: right;\">\n",
       "      <th></th>\n",
       "      <th>Date</th>\n",
       "      <th>Calories (kcal)</th>\n",
       "      <th>Distance (m)</th>\n",
       "      <th>Height (m)</th>\n",
       "      <th>Min. latitude (deg.)</th>\n",
       "      <th>Min. longitude (deg.)</th>\n",
       "      <th>Max. latitude (deg.)</th>\n",
       "      <th>Max. longitude (deg.)</th>\n",
       "      <th>Average Speed (m/s)</th>\n",
       "      <th>Max. Speed (m/s)</th>\n",
       "      <th>...</th>\n",
       "      <th>Active Minutes</th>\n",
       "      <th>Heart Beats</th>\n",
       "      <th>Duration: Rest (ms)</th>\n",
       "      <th>Duration: Walking (ms)</th>\n",
       "      <th>Duration: Running (ms)</th>\n",
       "      <th>Duration: Calisthenics (ms)</th>\n",
       "      <th>Duration: Gymnastics (ms)</th>\n",
       "      <th>Duration: Pilates (ms)</th>\n",
       "      <th>Duration: Sleeping (ms)</th>\n",
       "      <th>Duration: Swimming (ms)</th>\n",
       "    </tr>\n",
       "  </thead>\n",
       "  <tbody>\n",
       "    <tr>\n",
       "      <th>0</th>\n",
       "      <td>01/10/2019</td>\n",
       "      <td>1647.837634</td>\n",
       "      <td>387.676403</td>\n",
       "      <td>NaN</td>\n",
       "      <td>NaN</td>\n",
       "      <td>NaN</td>\n",
       "      <td>NaN</td>\n",
       "      <td>NaN</td>\n",
       "      <td>0.956698</td>\n",
       "      <td>1.234390</td>\n",
       "      <td>...</td>\n",
       "      <td>37.0</td>\n",
       "      <td>NaN</td>\n",
       "      <td>50134858</td>\n",
       "      <td>510918.0</td>\n",
       "      <td>NaN</td>\n",
       "      <td>317438.0</td>\n",
       "      <td>NaN</td>\n",
       "      <td>1260000.0</td>\n",
       "      <td>25200000.0</td>\n",
       "      <td>NaN</td>\n",
       "    </tr>\n",
       "    <tr>\n",
       "      <th>1</th>\n",
       "      <td>02/10/2019</td>\n",
       "      <td>1595.639992</td>\n",
       "      <td>2944.880515</td>\n",
       "      <td>NaN</td>\n",
       "      <td>31.749575</td>\n",
       "      <td>35.209094</td>\n",
       "      <td>31.820887</td>\n",
       "      <td>35.244745</td>\n",
       "      <td>0.881290</td>\n",
       "      <td>12.681112</td>\n",
       "      <td>...</td>\n",
       "      <td>75.0</td>\n",
       "      <td>NaN</td>\n",
       "      <td>50521385</td>\n",
       "      <td>3585815.0</td>\n",
       "      <td>NaN</td>\n",
       "      <td>NaN</td>\n",
       "      <td>NaN</td>\n",
       "      <td>NaN</td>\n",
       "      <td>25200000.0</td>\n",
       "      <td>NaN</td>\n",
       "    </tr>\n",
       "    <tr>\n",
       "      <th>2</th>\n",
       "      <td>03/10/2019</td>\n",
       "      <td>1809.347297</td>\n",
       "      <td>3844.128188</td>\n",
       "      <td>NaN</td>\n",
       "      <td>31.818870</td>\n",
       "      <td>35.240115</td>\n",
       "      <td>31.825135</td>\n",
       "      <td>35.248335</td>\n",
       "      <td>1.338693</td>\n",
       "      <td>1.832370</td>\n",
       "      <td>...</td>\n",
       "      <td>95.0</td>\n",
       "      <td>NaN</td>\n",
       "      <td>55337236</td>\n",
       "      <td>3822764.0</td>\n",
       "      <td>NaN</td>\n",
       "      <td>240000.0</td>\n",
       "      <td>NaN</td>\n",
       "      <td>NaN</td>\n",
       "      <td>25200000.0</td>\n",
       "      <td>1800000.0</td>\n",
       "    </tr>\n",
       "    <tr>\n",
       "      <th>3</th>\n",
       "      <td>04/10/2019</td>\n",
       "      <td>1899.603784</td>\n",
       "      <td>8248.763862</td>\n",
       "      <td>NaN</td>\n",
       "      <td>31.773488</td>\n",
       "      <td>35.219833</td>\n",
       "      <td>31.821658</td>\n",
       "      <td>35.244167</td>\n",
       "      <td>1.057343</td>\n",
       "      <td>2.670444</td>\n",
       "      <td>...</td>\n",
       "      <td>171.0</td>\n",
       "      <td>NaN</td>\n",
       "      <td>42067629</td>\n",
       "      <td>9997458.0</td>\n",
       "      <td>NaN</td>\n",
       "      <td>NaN</td>\n",
       "      <td>NaN</td>\n",
       "      <td>NaN</td>\n",
       "      <td>31260000.0</td>\n",
       "      <td>NaN</td>\n",
       "    </tr>\n",
       "    <tr>\n",
       "      <th>4</th>\n",
       "      <td>05/10/2019</td>\n",
       "      <td>1566.282852</td>\n",
       "      <td>1679.827522</td>\n",
       "      <td>NaN</td>\n",
       "      <td>31.780028</td>\n",
       "      <td>35.207667</td>\n",
       "      <td>31.780526</td>\n",
       "      <td>35.208966</td>\n",
       "      <td>1.309730</td>\n",
       "      <td>13.861970</td>\n",
       "      <td>...</td>\n",
       "      <td>54.0</td>\n",
       "      <td>NaN</td>\n",
       "      <td>47164570</td>\n",
       "      <td>2158509.0</td>\n",
       "      <td>NaN</td>\n",
       "      <td>222000.0</td>\n",
       "      <td>900000.0</td>\n",
       "      <td>NaN</td>\n",
       "      <td>33599436.0</td>\n",
       "      <td>NaN</td>\n",
       "    </tr>\n",
       "  </tbody>\n",
       "</table>\n",
       "<p>5 rows × 25 columns</p>\n",
       "</div>"
      ],
      "text/plain": [
       "         Date  Calories (kcal)  Distance (m)  Height (m)  \\\n",
       "0  01/10/2019      1647.837634    387.676403         NaN   \n",
       "1  02/10/2019      1595.639992   2944.880515         NaN   \n",
       "2  03/10/2019      1809.347297   3844.128188         NaN   \n",
       "3  04/10/2019      1899.603784   8248.763862         NaN   \n",
       "4  05/10/2019      1566.282852   1679.827522         NaN   \n",
       "\n",
       "   Min. latitude (deg.)  Min. longitude (deg.)  Max. latitude (deg.)  \\\n",
       "0                   NaN                    NaN                   NaN   \n",
       "1             31.749575              35.209094             31.820887   \n",
       "2             31.818870              35.240115             31.825135   \n",
       "3             31.773488              35.219833             31.821658   \n",
       "4             31.780028              35.207667             31.780526   \n",
       "\n",
       "   Max. longitude (deg.)  Average Speed (m/s)  Max. Speed (m/s)  ...  \\\n",
       "0                    NaN             0.956698          1.234390  ...   \n",
       "1              35.244745             0.881290         12.681112  ...   \n",
       "2              35.248335             1.338693          1.832370  ...   \n",
       "3              35.244167             1.057343          2.670444  ...   \n",
       "4              35.208966             1.309730         13.861970  ...   \n",
       "\n",
       "   Active Minutes  Heart Beats  Duration: Rest (ms)  Duration: Walking (ms)  \\\n",
       "0            37.0          NaN             50134858                510918.0   \n",
       "1            75.0          NaN             50521385               3585815.0   \n",
       "2            95.0          NaN             55337236               3822764.0   \n",
       "3           171.0          NaN             42067629               9997458.0   \n",
       "4            54.0          NaN             47164570               2158509.0   \n",
       "\n",
       "   Duration: Running (ms)  Duration: Calisthenics (ms)  \\\n",
       "0                     NaN                     317438.0   \n",
       "1                     NaN                          NaN   \n",
       "2                     NaN                     240000.0   \n",
       "3                     NaN                          NaN   \n",
       "4                     NaN                     222000.0   \n",
       "\n",
       "   Duration: Gymnastics (ms)  Duration: Pilates (ms)  Duration: Sleeping (ms)  \\\n",
       "0                        NaN               1260000.0               25200000.0   \n",
       "1                        NaN                     NaN               25200000.0   \n",
       "2                        NaN                     NaN               25200000.0   \n",
       "3                        NaN                     NaN               31260000.0   \n",
       "4                   900000.0                     NaN               33599436.0   \n",
       "\n",
       "   Duration: Swimming (ms)  \n",
       "0                      NaN  \n",
       "1                      NaN  \n",
       "2                1800000.0  \n",
       "3                      NaN  \n",
       "4                      NaN  \n",
       "\n",
       "[5 rows x 25 columns]"
      ]
     },
     "execution_count": 5,
     "metadata": {},
     "output_type": "execute_result"
    }
   ],
   "source": [
    "data.head()"
   ]
  },
  {
   "cell_type": "code",
   "execution_count": 6,
   "metadata": {},
   "outputs": [
    {
     "data": {
      "text/html": [
       "<div>\n",
       "<style scoped>\n",
       "    .dataframe tbody tr th:only-of-type {\n",
       "        vertical-align: middle;\n",
       "    }\n",
       "\n",
       "    .dataframe tbody tr th {\n",
       "        vertical-align: top;\n",
       "    }\n",
       "\n",
       "    .dataframe thead th {\n",
       "        text-align: right;\n",
       "    }\n",
       "</style>\n",
       "<table border=\"1\" class=\"dataframe\">\n",
       "  <thead>\n",
       "    <tr style=\"text-align: right;\">\n",
       "      <th></th>\n",
       "      <th>Date</th>\n",
       "      <th>Calories (kcal)</th>\n",
       "      <th>Distance (m)</th>\n",
       "      <th>Height (m)</th>\n",
       "      <th>Min. latitude (deg.)</th>\n",
       "      <th>Min. longitude (deg.)</th>\n",
       "      <th>Max. latitude (deg.)</th>\n",
       "      <th>Max. longitude (deg.)</th>\n",
       "      <th>Average Speed (m/s)</th>\n",
       "      <th>Max. Speed (m/s)</th>\n",
       "      <th>...</th>\n",
       "      <th>Active Minutes</th>\n",
       "      <th>Heart Beats</th>\n",
       "      <th>Duration: Rest (ms)</th>\n",
       "      <th>Duration: Walking (ms)</th>\n",
       "      <th>Duration: Running (ms)</th>\n",
       "      <th>Duration: Calisthenics (ms)</th>\n",
       "      <th>Duration: Gymnastics (ms)</th>\n",
       "      <th>Duration: Pilates (ms)</th>\n",
       "      <th>Duration: Sleeping (ms)</th>\n",
       "      <th>Duration: Swimming (ms)</th>\n",
       "    </tr>\n",
       "  </thead>\n",
       "  <tbody>\n",
       "    <tr>\n",
       "      <th>87</th>\n",
       "      <td>27/12/2019</td>\n",
       "      <td>1459.479597</td>\n",
       "      <td>1340.732610</td>\n",
       "      <td>NaN</td>\n",
       "      <td>31.818750</td>\n",
       "      <td>35.244493</td>\n",
       "      <td>31.819852</td>\n",
       "      <td>35.249107</td>\n",
       "      <td>1.450376</td>\n",
       "      <td>2.967833</td>\n",
       "      <td>...</td>\n",
       "      <td>21.0</td>\n",
       "      <td>NaN</td>\n",
       "      <td>85100408</td>\n",
       "      <td>1299592.0</td>\n",
       "      <td>NaN</td>\n",
       "      <td>NaN</td>\n",
       "      <td>NaN</td>\n",
       "      <td>NaN</td>\n",
       "      <td>NaN</td>\n",
       "      <td>NaN</td>\n",
       "    </tr>\n",
       "    <tr>\n",
       "      <th>88</th>\n",
       "      <td>28/12/2019</td>\n",
       "      <td>1394.999999</td>\n",
       "      <td>48.552671</td>\n",
       "      <td>NaN</td>\n",
       "      <td>NaN</td>\n",
       "      <td>NaN</td>\n",
       "      <td>NaN</td>\n",
       "      <td>NaN</td>\n",
       "      <td>0.621259</td>\n",
       "      <td>1.108203</td>\n",
       "      <td>...</td>\n",
       "      <td>2.0</td>\n",
       "      <td>NaN</td>\n",
       "      <td>86352870</td>\n",
       "      <td>NaN</td>\n",
       "      <td>NaN</td>\n",
       "      <td>NaN</td>\n",
       "      <td>NaN</td>\n",
       "      <td>NaN</td>\n",
       "      <td>NaN</td>\n",
       "      <td>NaN</td>\n",
       "    </tr>\n",
       "    <tr>\n",
       "      <th>89</th>\n",
       "      <td>29/12/2019</td>\n",
       "      <td>1518.057093</td>\n",
       "      <td>2034.557031</td>\n",
       "      <td>NaN</td>\n",
       "      <td>31.818727</td>\n",
       "      <td>35.243810</td>\n",
       "      <td>31.821607</td>\n",
       "      <td>35.249124</td>\n",
       "      <td>2.092794</td>\n",
       "      <td>17.514469</td>\n",
       "      <td>...</td>\n",
       "      <td>37.0</td>\n",
       "      <td>NaN</td>\n",
       "      <td>81916867</td>\n",
       "      <td>2480226.0</td>\n",
       "      <td>NaN</td>\n",
       "      <td>NaN</td>\n",
       "      <td>NaN</td>\n",
       "      <td>NaN</td>\n",
       "      <td>NaN</td>\n",
       "      <td>NaN</td>\n",
       "    </tr>\n",
       "    <tr>\n",
       "      <th>90</th>\n",
       "      <td>30/12/2019</td>\n",
       "      <td>1498.316072</td>\n",
       "      <td>2602.608307</td>\n",
       "      <td>NaN</td>\n",
       "      <td>31.818973</td>\n",
       "      <td>35.239791</td>\n",
       "      <td>31.821138</td>\n",
       "      <td>35.249230</td>\n",
       "      <td>0.677986</td>\n",
       "      <td>2.447952</td>\n",
       "      <td>...</td>\n",
       "      <td>39.0</td>\n",
       "      <td>NaN</td>\n",
       "      <td>83793168</td>\n",
       "      <td>2082345.0</td>\n",
       "      <td>NaN</td>\n",
       "      <td>NaN</td>\n",
       "      <td>NaN</td>\n",
       "      <td>NaN</td>\n",
       "      <td>NaN</td>\n",
       "      <td>NaN</td>\n",
       "    </tr>\n",
       "    <tr>\n",
       "      <th>91</th>\n",
       "      <td>31/12/2019</td>\n",
       "      <td>1438.347806</td>\n",
       "      <td>489.235457</td>\n",
       "      <td>NaN</td>\n",
       "      <td>31.818666</td>\n",
       "      <td>35.249029</td>\n",
       "      <td>31.819840</td>\n",
       "      <td>35.249623</td>\n",
       "      <td>0.436250</td>\n",
       "      <td>1.433313</td>\n",
       "      <td>...</td>\n",
       "      <td>10.0</td>\n",
       "      <td>NaN</td>\n",
       "      <td>85051129</td>\n",
       "      <td>873682.0</td>\n",
       "      <td>NaN</td>\n",
       "      <td>NaN</td>\n",
       "      <td>NaN</td>\n",
       "      <td>NaN</td>\n",
       "      <td>NaN</td>\n",
       "      <td>NaN</td>\n",
       "    </tr>\n",
       "  </tbody>\n",
       "</table>\n",
       "<p>5 rows × 25 columns</p>\n",
       "</div>"
      ],
      "text/plain": [
       "          Date  Calories (kcal)  Distance (m)  Height (m)  \\\n",
       "87  27/12/2019      1459.479597   1340.732610         NaN   \n",
       "88  28/12/2019      1394.999999     48.552671         NaN   \n",
       "89  29/12/2019      1518.057093   2034.557031         NaN   \n",
       "90  30/12/2019      1498.316072   2602.608307         NaN   \n",
       "91  31/12/2019      1438.347806    489.235457         NaN   \n",
       "\n",
       "    Min. latitude (deg.)  Min. longitude (deg.)  Max. latitude (deg.)  \\\n",
       "87             31.818750              35.244493             31.819852   \n",
       "88                   NaN                    NaN                   NaN   \n",
       "89             31.818727              35.243810             31.821607   \n",
       "90             31.818973              35.239791             31.821138   \n",
       "91             31.818666              35.249029             31.819840   \n",
       "\n",
       "    Max. longitude (deg.)  Average Speed (m/s)  Max. Speed (m/s)  ...  \\\n",
       "87              35.249107             1.450376          2.967833  ...   \n",
       "88                    NaN             0.621259          1.108203  ...   \n",
       "89              35.249124             2.092794         17.514469  ...   \n",
       "90              35.249230             0.677986          2.447952  ...   \n",
       "91              35.249623             0.436250          1.433313  ...   \n",
       "\n",
       "    Active Minutes  Heart Beats  Duration: Rest (ms)  Duration: Walking (ms)  \\\n",
       "87            21.0          NaN             85100408               1299592.0   \n",
       "88             2.0          NaN             86352870                     NaN   \n",
       "89            37.0          NaN             81916867               2480226.0   \n",
       "90            39.0          NaN             83793168               2082345.0   \n",
       "91            10.0          NaN             85051129                873682.0   \n",
       "\n",
       "    Duration: Running (ms)  Duration: Calisthenics (ms)  \\\n",
       "87                     NaN                          NaN   \n",
       "88                     NaN                          NaN   \n",
       "89                     NaN                          NaN   \n",
       "90                     NaN                          NaN   \n",
       "91                     NaN                          NaN   \n",
       "\n",
       "    Duration: Gymnastics (ms)  Duration: Pilates (ms)  \\\n",
       "87                        NaN                     NaN   \n",
       "88                        NaN                     NaN   \n",
       "89                        NaN                     NaN   \n",
       "90                        NaN                     NaN   \n",
       "91                        NaN                     NaN   \n",
       "\n",
       "    Duration: Sleeping (ms)  Duration: Swimming (ms)  \n",
       "87                      NaN                      NaN  \n",
       "88                      NaN                      NaN  \n",
       "89                      NaN                      NaN  \n",
       "90                      NaN                      NaN  \n",
       "91                      NaN                      NaN  \n",
       "\n",
       "[5 rows x 25 columns]"
      ]
     },
     "execution_count": 6,
     "metadata": {},
     "output_type": "execute_result"
    }
   ],
   "source": [
    "data.tail()"
   ]
  },
  {
   "cell_type": "markdown",
   "metadata": {},
   "source": [
    "Now as we know how our data looks like, we can start to clean and explore it.\n",
    "## 3. Preparing data\n",
    "### 3.1. Cleaning\n",
    "As we've said before, the data start from 9th of September 2019 and end on the 10th of January 2020. We want to explore data exactly for three month period from the 1st of October till the end of the year. So we need to delete extra lines."
   ]
  },
  {
   "cell_type": "raw",
   "metadata": {
    "scrolled": true
   },
   "source": [
    "data.drop(data.head(5).index, inplace=True)\n",
    "data.drop(data.tail(10).index, inplace=True)\n",
    "\n",
    "data.head()"
   ]
  },
  {
   "cell_type": "markdown",
   "metadata": {},
   "source": [
    "Also, we don't need some columns in our data set, because they are not relevant to the research. Let's make a list of all columns' names to know what we are talking about."
   ]
  },
  {
   "cell_type": "code",
   "execution_count": 7,
   "metadata": {},
   "outputs": [
    {
     "data": {
      "text/plain": [
       "Index(['Date', 'Calories (kcal)', 'Distance (m)', 'Height (m)',\n",
       "       'Min. latitude (deg.)', 'Min. longitude (deg.)', 'Max. latitude (deg.)',\n",
       "       'Max. longitude (deg.)', 'Average Speed (m/s)', 'Max. Speed (m/s)',\n",
       "       'Min. Speed (m/s)', 'Number of Steps', 'Average weight (kg)',\n",
       "       'Max. weight (kg)', 'Min. weight (kg)', 'Active Minutes', 'Heart Beats',\n",
       "       'Duration: Rest (ms)', 'Duration: Walking (ms)',\n",
       "       'Duration: Running (ms)', 'Duration: Calisthenics (ms)',\n",
       "       'Duration: Gymnastics (ms)', 'Duration: Pilates (ms)',\n",
       "       'Duration: Sleeping (ms)', 'Duration: Swimming (ms)'],\n",
       "      dtype='object')"
      ]
     },
     "execution_count": 7,
     "metadata": {},
     "output_type": "execute_result"
    }
   ],
   "source": [
    "data.columns"
   ]
  },
  {
   "cell_type": "markdown",
   "metadata": {},
   "source": [
    "As we saw in data info, columns 'Height' and 'Heart Beats' are empty. We will not work with geographic data in this analysis, so we don't need the columns with latitude and longitude. We don't want to discuss weight, so we delete all columns with this data. And we don't need the column with the time of rest and sleeping, because we talk about sport, not about free time."
   ]
  },
  {
   "cell_type": "code",
   "execution_count": 8,
   "metadata": {},
   "outputs": [
    {
     "data": {
      "text/html": [
       "<div>\n",
       "<style scoped>\n",
       "    .dataframe tbody tr th:only-of-type {\n",
       "        vertical-align: middle;\n",
       "    }\n",
       "\n",
       "    .dataframe tbody tr th {\n",
       "        vertical-align: top;\n",
       "    }\n",
       "\n",
       "    .dataframe thead th {\n",
       "        text-align: right;\n",
       "    }\n",
       "</style>\n",
       "<table border=\"1\" class=\"dataframe\">\n",
       "  <thead>\n",
       "    <tr style=\"text-align: right;\">\n",
       "      <th></th>\n",
       "      <th>Date</th>\n",
       "      <th>Calories (kcal)</th>\n",
       "      <th>Distance (m)</th>\n",
       "      <th>Average Speed (m/s)</th>\n",
       "      <th>Max. Speed (m/s)</th>\n",
       "      <th>Min. Speed (m/s)</th>\n",
       "      <th>Number of Steps</th>\n",
       "      <th>Active Minutes</th>\n",
       "      <th>Duration: Walking (ms)</th>\n",
       "      <th>Duration: Running (ms)</th>\n",
       "      <th>Duration: Calisthenics (ms)</th>\n",
       "      <th>Duration: Gymnastics (ms)</th>\n",
       "      <th>Duration: Pilates (ms)</th>\n",
       "      <th>Duration: Swimming (ms)</th>\n",
       "    </tr>\n",
       "  </thead>\n",
       "  <tbody>\n",
       "    <tr>\n",
       "      <th>0</th>\n",
       "      <td>01/10/2019</td>\n",
       "      <td>1647.837634</td>\n",
       "      <td>387.676403</td>\n",
       "      <td>0.956698</td>\n",
       "      <td>1.234390</td>\n",
       "      <td>0.624996</td>\n",
       "      <td>1043</td>\n",
       "      <td>37.0</td>\n",
       "      <td>510918.0</td>\n",
       "      <td>NaN</td>\n",
       "      <td>317438.0</td>\n",
       "      <td>NaN</td>\n",
       "      <td>1260000.0</td>\n",
       "      <td>NaN</td>\n",
       "    </tr>\n",
       "    <tr>\n",
       "      <th>1</th>\n",
       "      <td>02/10/2019</td>\n",
       "      <td>1595.639992</td>\n",
       "      <td>2944.880515</td>\n",
       "      <td>0.881290</td>\n",
       "      <td>12.681112</td>\n",
       "      <td>0.073621</td>\n",
       "      <td>5939</td>\n",
       "      <td>75.0</td>\n",
       "      <td>3585815.0</td>\n",
       "      <td>NaN</td>\n",
       "      <td>NaN</td>\n",
       "      <td>NaN</td>\n",
       "      <td>NaN</td>\n",
       "      <td>NaN</td>\n",
       "    </tr>\n",
       "    <tr>\n",
       "      <th>2</th>\n",
       "      <td>03/10/2019</td>\n",
       "      <td>1809.347297</td>\n",
       "      <td>3844.128188</td>\n",
       "      <td>1.338693</td>\n",
       "      <td>1.832370</td>\n",
       "      <td>0.334109</td>\n",
       "      <td>6255</td>\n",
       "      <td>95.0</td>\n",
       "      <td>3822764.0</td>\n",
       "      <td>NaN</td>\n",
       "      <td>240000.0</td>\n",
       "      <td>NaN</td>\n",
       "      <td>NaN</td>\n",
       "      <td>1800000.0</td>\n",
       "    </tr>\n",
       "    <tr>\n",
       "      <th>3</th>\n",
       "      <td>04/10/2019</td>\n",
       "      <td>1899.603784</td>\n",
       "      <td>8248.763862</td>\n",
       "      <td>1.057343</td>\n",
       "      <td>2.670444</td>\n",
       "      <td>0.249572</td>\n",
       "      <td>14816</td>\n",
       "      <td>171.0</td>\n",
       "      <td>9997458.0</td>\n",
       "      <td>NaN</td>\n",
       "      <td>NaN</td>\n",
       "      <td>NaN</td>\n",
       "      <td>NaN</td>\n",
       "      <td>NaN</td>\n",
       "    </tr>\n",
       "    <tr>\n",
       "      <th>4</th>\n",
       "      <td>05/10/2019</td>\n",
       "      <td>1566.282852</td>\n",
       "      <td>1679.827522</td>\n",
       "      <td>1.309730</td>\n",
       "      <td>13.861970</td>\n",
       "      <td>0.472434</td>\n",
       "      <td>3116</td>\n",
       "      <td>54.0</td>\n",
       "      <td>2158509.0</td>\n",
       "      <td>NaN</td>\n",
       "      <td>222000.0</td>\n",
       "      <td>900000.0</td>\n",
       "      <td>NaN</td>\n",
       "      <td>NaN</td>\n",
       "    </tr>\n",
       "  </tbody>\n",
       "</table>\n",
       "</div>"
      ],
      "text/plain": [
       "         Date  Calories (kcal)  Distance (m)  Average Speed (m/s)  \\\n",
       "0  01/10/2019      1647.837634    387.676403             0.956698   \n",
       "1  02/10/2019      1595.639992   2944.880515             0.881290   \n",
       "2  03/10/2019      1809.347297   3844.128188             1.338693   \n",
       "3  04/10/2019      1899.603784   8248.763862             1.057343   \n",
       "4  05/10/2019      1566.282852   1679.827522             1.309730   \n",
       "\n",
       "   Max. Speed (m/s)  Min. Speed (m/s)  Number of Steps  Active Minutes  \\\n",
       "0          1.234390          0.624996             1043            37.0   \n",
       "1         12.681112          0.073621             5939            75.0   \n",
       "2          1.832370          0.334109             6255            95.0   \n",
       "3          2.670444          0.249572            14816           171.0   \n",
       "4         13.861970          0.472434             3116            54.0   \n",
       "\n",
       "   Duration: Walking (ms)  Duration: Running (ms)  \\\n",
       "0                510918.0                     NaN   \n",
       "1               3585815.0                     NaN   \n",
       "2               3822764.0                     NaN   \n",
       "3               9997458.0                     NaN   \n",
       "4               2158509.0                     NaN   \n",
       "\n",
       "   Duration: Calisthenics (ms)  Duration: Gymnastics (ms)  \\\n",
       "0                     317438.0                        NaN   \n",
       "1                          NaN                        NaN   \n",
       "2                     240000.0                        NaN   \n",
       "3                          NaN                        NaN   \n",
       "4                     222000.0                   900000.0   \n",
       "\n",
       "   Duration: Pilates (ms)  Duration: Swimming (ms)  \n",
       "0               1260000.0                      NaN  \n",
       "1                     NaN                      NaN  \n",
       "2                     NaN                1800000.0  \n",
       "3                     NaN                      NaN  \n",
       "4                     NaN                      NaN  "
      ]
     },
     "execution_count": 8,
     "metadata": {},
     "output_type": "execute_result"
    }
   ],
   "source": [
    "data.drop(['Height (m)', 'Min. latitude (deg.)', 'Min. longitude (deg.)', 'Max. latitude (deg.)', 'Max. longitude (deg.)', \n",
    "           'Average weight (kg)','Max. weight (kg)', 'Min. weight (kg)', 'Duration: Rest (ms)', 'Duration: Sleeping (ms)',\n",
    "           'Heart Beats'], axis=1, inplace=True)\n",
    "\n",
    "data.head()"
   ]
  },
  {
   "cell_type": "markdown",
   "metadata": {},
   "source": [
    "Now as we deleted unnecessary rows and columns, we can look again at the data info."
   ]
  },
  {
   "cell_type": "code",
   "execution_count": 9,
   "metadata": {},
   "outputs": [
    {
     "name": "stdout",
     "output_type": "stream",
     "text": [
      "<class 'pandas.core.frame.DataFrame'>\n",
      "RangeIndex: 92 entries, 0 to 91\n",
      "Data columns (total 14 columns):\n",
      " #   Column                       Non-Null Count  Dtype  \n",
      "---  ------                       --------------  -----  \n",
      " 0   Date                         92 non-null     object \n",
      " 1   Calories (kcal)              92 non-null     float64\n",
      " 2   Distance (m)                 91 non-null     float64\n",
      " 3   Average Speed (m/s)          92 non-null     float64\n",
      " 4   Max. Speed (m/s)             92 non-null     float64\n",
      " 5   Min. Speed (m/s)             92 non-null     float64\n",
      " 6   Number of Steps              92 non-null     int64  \n",
      " 7   Active Minutes               90 non-null     float64\n",
      " 8   Duration: Walking (ms)       89 non-null     float64\n",
      " 9   Duration: Running (ms)       5 non-null      float64\n",
      " 10  Duration: Calisthenics (ms)  10 non-null     float64\n",
      " 11  Duration: Gymnastics (ms)    1 non-null      float64\n",
      " 12  Duration: Pilates (ms)       3 non-null      float64\n",
      " 13  Duration: Swimming (ms)      14 non-null     float64\n",
      "dtypes: float64(12), int64(1), object(1)\n",
      "memory usage: 10.2+ KB\n"
     ]
    }
   ],
   "source": [
    "data.info()"
   ]
  },
  {
   "cell_type": "markdown",
   "metadata": {},
   "source": [
    "The data frame has 92 rows: three months, two with 31 days in them (October and December) and one with 30 days (November). And 15 columns with data we want to explore.\n",
    "\n",
    "But before exploration start we have to do some more work.\n",
    "\n",
    "### 3.2. Formatting\n",
    "\n",
    "We need to convert the type of date column to the datetime format. For this purpose add real index column to the data frame."
   ]
  },
  {
   "cell_type": "raw",
   "metadata": {},
   "source": [
    "data.reset_index(inplace=True)"
   ]
  },
  {
   "cell_type": "code",
   "execution_count": 10,
   "metadata": {},
   "outputs": [],
   "source": [
    "data['Date'] = pd.to_datetime(data['Date'], dayfirst=True)"
   ]
  },
  {
   "cell_type": "markdown",
   "metadata": {},
   "source": [
    "Also we want to fill all NaN (empty) values with 0. It's nesaccery for further analysis and visualization."
   ]
  },
  {
   "cell_type": "code",
   "execution_count": 11,
   "metadata": {},
   "outputs": [],
   "source": [
    "data.fillna(0, inplace=True)"
   ]
  },
  {
   "cell_type": "markdown",
   "metadata": {},
   "source": [
    "And we need to convert some data from one unit to another. For example, it's not comfortable to work with time in milliseconds. It's much more common to deal with minutes. For the same reason, we'll convert meters per second to kilometers per hour. Respectively we'll change column names to match them to data types."
   ]
  },
  {
   "cell_type": "code",
   "execution_count": 12,
   "metadata": {},
   "outputs": [],
   "source": [
    "data['Calories (kcal)'] = (data['Calories (kcal)'] // 1).astype(int)\n",
    "data['Distance (m)'] = (data['Distance (m)'] // 1).astype(int)\n",
    "data['Average Speed (m/s)'] = round(data['Average Speed (m/s)'] * 3600 / 1000, 1)\n",
    "data['Max. Speed (m/s)'] = round(data['Max. Speed (m/s)'] * 3600 / 1000, 1)\n",
    "data['Min. Speed (m/s)'] = round(data['Min. Speed (m/s)'] * 3600 / 1000, 1)\n",
    "data['Number of Steps'] = data['Number of Steps'].astype(int)\n",
    "data['Active Minutes'] = data['Active Minutes'].astype(int)\n",
    "data['Duration: Walking (ms)'] = (data['Duration: Walking (ms)'] // 1000 // 60).astype(int)\n",
    "data['Duration: Running (ms)'] = (data['Duration: Running (ms)'] // 1000 // 60).astype(int)\n",
    "data['Duration: Calisthenics (ms)'] = (data['Duration: Calisthenics (ms)'] // 1000 // 60).astype(int)\n",
    "data['Duration: Gymnastics (ms)'] = (data['Duration: Gymnastics (ms)'] // 1000 // 60).astype(int)\n",
    "data['Duration: Pilates (ms)'] = (data['Duration: Pilates (ms)'] // 1000 // 60).astype(int)\n",
    "data['Duration: Swimming (ms)'] = (data['Duration: Swimming (ms)'] // 1000 // 60).astype(int)\n",
    "\n",
    "data.rename({'Average Speed (m/s)': 'Average Speed (km/h)', \n",
    "             'Max. Speed (m/s)': 'Max Speed (km/h)', \n",
    "             'Min. Speed (m/s)': 'Min Speed (km/h)', \n",
    "             'Duration: Rest (ms)': 'Duration: Rest (m)', \n",
    "             'Duration: Rest (ms)': 'Duration: Rest (min)', \n",
    "             'Duration: Walking (ms)': 'Duration: Walking (min)',\n",
    "             'Duration: Running (ms)': 'Duration: Running (min)', \n",
    "             'Duration: Calisthenics (ms)': 'Duration: Calisthenics (min)',\n",
    "             'Duration: Gymnastics (ms)': 'Duration: Gymnastics (min)', \n",
    "             'Duration: Pilates (ms)': 'Duration: Pilates (min)',\n",
    "             'Duration: Swimming (ms)': 'Duration: Swimming (min)'}, axis=1, inplace=True)"
   ]
  },
  {
   "cell_type": "markdown",
   "metadata": {},
   "source": [
    "Now our set of data looks much better."
   ]
  },
  {
   "cell_type": "code",
   "execution_count": 13,
   "metadata": {},
   "outputs": [
    {
     "data": {
      "text/html": [
       "<div>\n",
       "<style scoped>\n",
       "    .dataframe tbody tr th:only-of-type {\n",
       "        vertical-align: middle;\n",
       "    }\n",
       "\n",
       "    .dataframe tbody tr th {\n",
       "        vertical-align: top;\n",
       "    }\n",
       "\n",
       "    .dataframe thead th {\n",
       "        text-align: right;\n",
       "    }\n",
       "</style>\n",
       "<table border=\"1\" class=\"dataframe\">\n",
       "  <thead>\n",
       "    <tr style=\"text-align: right;\">\n",
       "      <th></th>\n",
       "      <th>Date</th>\n",
       "      <th>Calories (kcal)</th>\n",
       "      <th>Distance (m)</th>\n",
       "      <th>Average Speed (km/h)</th>\n",
       "      <th>Max Speed (km/h)</th>\n",
       "      <th>Min Speed (km/h)</th>\n",
       "      <th>Number of Steps</th>\n",
       "      <th>Active Minutes</th>\n",
       "      <th>Duration: Walking (min)</th>\n",
       "      <th>Duration: Running (min)</th>\n",
       "      <th>Duration: Calisthenics (min)</th>\n",
       "      <th>Duration: Gymnastics (min)</th>\n",
       "      <th>Duration: Pilates (min)</th>\n",
       "      <th>Duration: Swimming (min)</th>\n",
       "    </tr>\n",
       "  </thead>\n",
       "  <tbody>\n",
       "    <tr>\n",
       "      <th>0</th>\n",
       "      <td>2019-10-01</td>\n",
       "      <td>1647</td>\n",
       "      <td>387</td>\n",
       "      <td>3.4</td>\n",
       "      <td>4.4</td>\n",
       "      <td>2.2</td>\n",
       "      <td>1043</td>\n",
       "      <td>37</td>\n",
       "      <td>8</td>\n",
       "      <td>0</td>\n",
       "      <td>5</td>\n",
       "      <td>0</td>\n",
       "      <td>21</td>\n",
       "      <td>0</td>\n",
       "    </tr>\n",
       "    <tr>\n",
       "      <th>1</th>\n",
       "      <td>2019-10-02</td>\n",
       "      <td>1595</td>\n",
       "      <td>2944</td>\n",
       "      <td>3.2</td>\n",
       "      <td>45.7</td>\n",
       "      <td>0.3</td>\n",
       "      <td>5939</td>\n",
       "      <td>75</td>\n",
       "      <td>59</td>\n",
       "      <td>0</td>\n",
       "      <td>0</td>\n",
       "      <td>0</td>\n",
       "      <td>0</td>\n",
       "      <td>0</td>\n",
       "    </tr>\n",
       "    <tr>\n",
       "      <th>2</th>\n",
       "      <td>2019-10-03</td>\n",
       "      <td>1809</td>\n",
       "      <td>3844</td>\n",
       "      <td>4.8</td>\n",
       "      <td>6.6</td>\n",
       "      <td>1.2</td>\n",
       "      <td>6255</td>\n",
       "      <td>95</td>\n",
       "      <td>63</td>\n",
       "      <td>0</td>\n",
       "      <td>4</td>\n",
       "      <td>0</td>\n",
       "      <td>0</td>\n",
       "      <td>30</td>\n",
       "    </tr>\n",
       "    <tr>\n",
       "      <th>3</th>\n",
       "      <td>2019-10-04</td>\n",
       "      <td>1899</td>\n",
       "      <td>8248</td>\n",
       "      <td>3.8</td>\n",
       "      <td>9.6</td>\n",
       "      <td>0.9</td>\n",
       "      <td>14816</td>\n",
       "      <td>171</td>\n",
       "      <td>166</td>\n",
       "      <td>0</td>\n",
       "      <td>0</td>\n",
       "      <td>0</td>\n",
       "      <td>0</td>\n",
       "      <td>0</td>\n",
       "    </tr>\n",
       "    <tr>\n",
       "      <th>4</th>\n",
       "      <td>2019-10-05</td>\n",
       "      <td>1566</td>\n",
       "      <td>1679</td>\n",
       "      <td>4.7</td>\n",
       "      <td>49.9</td>\n",
       "      <td>1.7</td>\n",
       "      <td>3116</td>\n",
       "      <td>54</td>\n",
       "      <td>35</td>\n",
       "      <td>0</td>\n",
       "      <td>3</td>\n",
       "      <td>15</td>\n",
       "      <td>0</td>\n",
       "      <td>0</td>\n",
       "    </tr>\n",
       "  </tbody>\n",
       "</table>\n",
       "</div>"
      ],
      "text/plain": [
       "        Date  Calories (kcal)  Distance (m)  Average Speed (km/h)  \\\n",
       "0 2019-10-01             1647           387                   3.4   \n",
       "1 2019-10-02             1595          2944                   3.2   \n",
       "2 2019-10-03             1809          3844                   4.8   \n",
       "3 2019-10-04             1899          8248                   3.8   \n",
       "4 2019-10-05             1566          1679                   4.7   \n",
       "\n",
       "   Max Speed (km/h)  Min Speed (km/h)  Number of Steps  Active Minutes  \\\n",
       "0               4.4               2.2             1043              37   \n",
       "1              45.7               0.3             5939              75   \n",
       "2               6.6               1.2             6255              95   \n",
       "3               9.6               0.9            14816             171   \n",
       "4              49.9               1.7             3116              54   \n",
       "\n",
       "   Duration: Walking (min)  Duration: Running (min)  \\\n",
       "0                        8                        0   \n",
       "1                       59                        0   \n",
       "2                       63                        0   \n",
       "3                      166                        0   \n",
       "4                       35                        0   \n",
       "\n",
       "   Duration: Calisthenics (min)  Duration: Gymnastics (min)  \\\n",
       "0                             5                           0   \n",
       "1                             0                           0   \n",
       "2                             4                           0   \n",
       "3                             0                           0   \n",
       "4                             3                          15   \n",
       "\n",
       "   Duration: Pilates (min)  Duration: Swimming (min)  \n",
       "0                       21                         0  \n",
       "1                        0                         0  \n",
       "2                        0                        30  \n",
       "3                        0                         0  \n",
       "4                        0                         0  "
      ]
     },
     "execution_count": 13,
     "metadata": {},
     "output_type": "execute_result"
    }
   ],
   "source": [
    "data.head()"
   ]
  },
  {
   "cell_type": "markdown",
   "metadata": {},
   "source": [
    "## 3.3. Inserting additional column\n",
    "\n",
    "In our data analysis, we work with dates. It's useful to add a column with days of weeks to the data frame. "
   ]
  },
  {
   "cell_type": "code",
   "execution_count": 14,
   "metadata": {},
   "outputs": [],
   "source": [
    "data['Day of Week'] = data['Date'].dt.dayofweek"
   ]
  },
  {
   "cell_type": "code",
   "execution_count": 15,
   "metadata": {},
   "outputs": [
    {
     "data": {
      "text/html": [
       "<div>\n",
       "<style scoped>\n",
       "    .dataframe tbody tr th:only-of-type {\n",
       "        vertical-align: middle;\n",
       "    }\n",
       "\n",
       "    .dataframe tbody tr th {\n",
       "        vertical-align: top;\n",
       "    }\n",
       "\n",
       "    .dataframe thead th {\n",
       "        text-align: right;\n",
       "    }\n",
       "</style>\n",
       "<table border=\"1\" class=\"dataframe\">\n",
       "  <thead>\n",
       "    <tr style=\"text-align: right;\">\n",
       "      <th></th>\n",
       "      <th>Date</th>\n",
       "      <th>Calories (kcal)</th>\n",
       "      <th>Distance (m)</th>\n",
       "      <th>Average Speed (km/h)</th>\n",
       "      <th>Max Speed (km/h)</th>\n",
       "      <th>Min Speed (km/h)</th>\n",
       "      <th>Number of Steps</th>\n",
       "      <th>Active Minutes</th>\n",
       "      <th>Duration: Walking (min)</th>\n",
       "      <th>Duration: Running (min)</th>\n",
       "      <th>Duration: Calisthenics (min)</th>\n",
       "      <th>Duration: Gymnastics (min)</th>\n",
       "      <th>Duration: Pilates (min)</th>\n",
       "      <th>Duration: Swimming (min)</th>\n",
       "      <th>Day of Week</th>\n",
       "    </tr>\n",
       "  </thead>\n",
       "  <tbody>\n",
       "    <tr>\n",
       "      <th>0</th>\n",
       "      <td>2019-10-01</td>\n",
       "      <td>1647</td>\n",
       "      <td>387</td>\n",
       "      <td>3.4</td>\n",
       "      <td>4.4</td>\n",
       "      <td>2.2</td>\n",
       "      <td>1043</td>\n",
       "      <td>37</td>\n",
       "      <td>8</td>\n",
       "      <td>0</td>\n",
       "      <td>5</td>\n",
       "      <td>0</td>\n",
       "      <td>21</td>\n",
       "      <td>0</td>\n",
       "      <td>1</td>\n",
       "    </tr>\n",
       "    <tr>\n",
       "      <th>1</th>\n",
       "      <td>2019-10-02</td>\n",
       "      <td>1595</td>\n",
       "      <td>2944</td>\n",
       "      <td>3.2</td>\n",
       "      <td>45.7</td>\n",
       "      <td>0.3</td>\n",
       "      <td>5939</td>\n",
       "      <td>75</td>\n",
       "      <td>59</td>\n",
       "      <td>0</td>\n",
       "      <td>0</td>\n",
       "      <td>0</td>\n",
       "      <td>0</td>\n",
       "      <td>0</td>\n",
       "      <td>2</td>\n",
       "    </tr>\n",
       "    <tr>\n",
       "      <th>2</th>\n",
       "      <td>2019-10-03</td>\n",
       "      <td>1809</td>\n",
       "      <td>3844</td>\n",
       "      <td>4.8</td>\n",
       "      <td>6.6</td>\n",
       "      <td>1.2</td>\n",
       "      <td>6255</td>\n",
       "      <td>95</td>\n",
       "      <td>63</td>\n",
       "      <td>0</td>\n",
       "      <td>4</td>\n",
       "      <td>0</td>\n",
       "      <td>0</td>\n",
       "      <td>30</td>\n",
       "      <td>3</td>\n",
       "    </tr>\n",
       "    <tr>\n",
       "      <th>3</th>\n",
       "      <td>2019-10-04</td>\n",
       "      <td>1899</td>\n",
       "      <td>8248</td>\n",
       "      <td>3.8</td>\n",
       "      <td>9.6</td>\n",
       "      <td>0.9</td>\n",
       "      <td>14816</td>\n",
       "      <td>171</td>\n",
       "      <td>166</td>\n",
       "      <td>0</td>\n",
       "      <td>0</td>\n",
       "      <td>0</td>\n",
       "      <td>0</td>\n",
       "      <td>0</td>\n",
       "      <td>4</td>\n",
       "    </tr>\n",
       "    <tr>\n",
       "      <th>4</th>\n",
       "      <td>2019-10-05</td>\n",
       "      <td>1566</td>\n",
       "      <td>1679</td>\n",
       "      <td>4.7</td>\n",
       "      <td>49.9</td>\n",
       "      <td>1.7</td>\n",
       "      <td>3116</td>\n",
       "      <td>54</td>\n",
       "      <td>35</td>\n",
       "      <td>0</td>\n",
       "      <td>3</td>\n",
       "      <td>15</td>\n",
       "      <td>0</td>\n",
       "      <td>0</td>\n",
       "      <td>5</td>\n",
       "    </tr>\n",
       "  </tbody>\n",
       "</table>\n",
       "</div>"
      ],
      "text/plain": [
       "        Date  Calories (kcal)  Distance (m)  Average Speed (km/h)  \\\n",
       "0 2019-10-01             1647           387                   3.4   \n",
       "1 2019-10-02             1595          2944                   3.2   \n",
       "2 2019-10-03             1809          3844                   4.8   \n",
       "3 2019-10-04             1899          8248                   3.8   \n",
       "4 2019-10-05             1566          1679                   4.7   \n",
       "\n",
       "   Max Speed (km/h)  Min Speed (km/h)  Number of Steps  Active Minutes  \\\n",
       "0               4.4               2.2             1043              37   \n",
       "1              45.7               0.3             5939              75   \n",
       "2               6.6               1.2             6255              95   \n",
       "3               9.6               0.9            14816             171   \n",
       "4              49.9               1.7             3116              54   \n",
       "\n",
       "   Duration: Walking (min)  Duration: Running (min)  \\\n",
       "0                        8                        0   \n",
       "1                       59                        0   \n",
       "2                       63                        0   \n",
       "3                      166                        0   \n",
       "4                       35                        0   \n",
       "\n",
       "   Duration: Calisthenics (min)  Duration: Gymnastics (min)  \\\n",
       "0                             5                           0   \n",
       "1                             0                           0   \n",
       "2                             4                           0   \n",
       "3                             0                           0   \n",
       "4                             3                          15   \n",
       "\n",
       "   Duration: Pilates (min)  Duration: Swimming (min)  Day of Week  \n",
       "0                       21                         0            1  \n",
       "1                        0                         0            2  \n",
       "2                        0                        30            3  \n",
       "3                        0                         0            4  \n",
       "4                        0                         0            5  "
      ]
     },
     "execution_count": 15,
     "metadata": {},
     "output_type": "execute_result"
    }
   ],
   "source": [
    "data.head()"
   ]
  },
  {
   "cell_type": "markdown",
   "metadata": {},
   "source": [
    "So we see in the last column numbers which correlate with days of the week. We see that our data begin from Tuesday because Monday has an index of 0. But numbers instead of day's names are not very useful. So we replace day numbers with their names."
   ]
  },
  {
   "cell_type": "code",
   "execution_count": 16,
   "metadata": {},
   "outputs": [
    {
     "data": {
      "text/html": [
       "<div>\n",
       "<style scoped>\n",
       "    .dataframe tbody tr th:only-of-type {\n",
       "        vertical-align: middle;\n",
       "    }\n",
       "\n",
       "    .dataframe tbody tr th {\n",
       "        vertical-align: top;\n",
       "    }\n",
       "\n",
       "    .dataframe thead th {\n",
       "        text-align: right;\n",
       "    }\n",
       "</style>\n",
       "<table border=\"1\" class=\"dataframe\">\n",
       "  <thead>\n",
       "    <tr style=\"text-align: right;\">\n",
       "      <th></th>\n",
       "      <th>Date</th>\n",
       "      <th>Calories (kcal)</th>\n",
       "      <th>Distance (m)</th>\n",
       "      <th>Average Speed (km/h)</th>\n",
       "      <th>Max Speed (km/h)</th>\n",
       "      <th>Min Speed (km/h)</th>\n",
       "      <th>Number of Steps</th>\n",
       "      <th>Active Minutes</th>\n",
       "      <th>Duration: Walking (min)</th>\n",
       "      <th>Duration: Running (min)</th>\n",
       "      <th>Duration: Calisthenics (min)</th>\n",
       "      <th>Duration: Gymnastics (min)</th>\n",
       "      <th>Duration: Pilates (min)</th>\n",
       "      <th>Duration: Swimming (min)</th>\n",
       "      <th>Day of Week</th>\n",
       "    </tr>\n",
       "  </thead>\n",
       "  <tbody>\n",
       "    <tr>\n",
       "      <th>0</th>\n",
       "      <td>2019-10-01</td>\n",
       "      <td>1647</td>\n",
       "      <td>387</td>\n",
       "      <td>3.4</td>\n",
       "      <td>4.4</td>\n",
       "      <td>2.2</td>\n",
       "      <td>1043</td>\n",
       "      <td>37</td>\n",
       "      <td>8</td>\n",
       "      <td>0</td>\n",
       "      <td>5</td>\n",
       "      <td>0</td>\n",
       "      <td>21</td>\n",
       "      <td>0</td>\n",
       "      <td>Tuesday</td>\n",
       "    </tr>\n",
       "    <tr>\n",
       "      <th>1</th>\n",
       "      <td>2019-10-02</td>\n",
       "      <td>1595</td>\n",
       "      <td>2944</td>\n",
       "      <td>3.2</td>\n",
       "      <td>45.7</td>\n",
       "      <td>0.3</td>\n",
       "      <td>5939</td>\n",
       "      <td>75</td>\n",
       "      <td>59</td>\n",
       "      <td>0</td>\n",
       "      <td>0</td>\n",
       "      <td>0</td>\n",
       "      <td>0</td>\n",
       "      <td>0</td>\n",
       "      <td>Wednesday</td>\n",
       "    </tr>\n",
       "    <tr>\n",
       "      <th>2</th>\n",
       "      <td>2019-10-03</td>\n",
       "      <td>1809</td>\n",
       "      <td>3844</td>\n",
       "      <td>4.8</td>\n",
       "      <td>6.6</td>\n",
       "      <td>1.2</td>\n",
       "      <td>6255</td>\n",
       "      <td>95</td>\n",
       "      <td>63</td>\n",
       "      <td>0</td>\n",
       "      <td>4</td>\n",
       "      <td>0</td>\n",
       "      <td>0</td>\n",
       "      <td>30</td>\n",
       "      <td>Thursday</td>\n",
       "    </tr>\n",
       "    <tr>\n",
       "      <th>3</th>\n",
       "      <td>2019-10-04</td>\n",
       "      <td>1899</td>\n",
       "      <td>8248</td>\n",
       "      <td>3.8</td>\n",
       "      <td>9.6</td>\n",
       "      <td>0.9</td>\n",
       "      <td>14816</td>\n",
       "      <td>171</td>\n",
       "      <td>166</td>\n",
       "      <td>0</td>\n",
       "      <td>0</td>\n",
       "      <td>0</td>\n",
       "      <td>0</td>\n",
       "      <td>0</td>\n",
       "      <td>Friday</td>\n",
       "    </tr>\n",
       "    <tr>\n",
       "      <th>4</th>\n",
       "      <td>2019-10-05</td>\n",
       "      <td>1566</td>\n",
       "      <td>1679</td>\n",
       "      <td>4.7</td>\n",
       "      <td>49.9</td>\n",
       "      <td>1.7</td>\n",
       "      <td>3116</td>\n",
       "      <td>54</td>\n",
       "      <td>35</td>\n",
       "      <td>0</td>\n",
       "      <td>3</td>\n",
       "      <td>15</td>\n",
       "      <td>0</td>\n",
       "      <td>0</td>\n",
       "      <td>Saturday</td>\n",
       "    </tr>\n",
       "  </tbody>\n",
       "</table>\n",
       "</div>"
      ],
      "text/plain": [
       "        Date  Calories (kcal)  Distance (m)  Average Speed (km/h)  \\\n",
       "0 2019-10-01             1647           387                   3.4   \n",
       "1 2019-10-02             1595          2944                   3.2   \n",
       "2 2019-10-03             1809          3844                   4.8   \n",
       "3 2019-10-04             1899          8248                   3.8   \n",
       "4 2019-10-05             1566          1679                   4.7   \n",
       "\n",
       "   Max Speed (km/h)  Min Speed (km/h)  Number of Steps  Active Minutes  \\\n",
       "0               4.4               2.2             1043              37   \n",
       "1              45.7               0.3             5939              75   \n",
       "2               6.6               1.2             6255              95   \n",
       "3               9.6               0.9            14816             171   \n",
       "4              49.9               1.7             3116              54   \n",
       "\n",
       "   Duration: Walking (min)  Duration: Running (min)  \\\n",
       "0                        8                        0   \n",
       "1                       59                        0   \n",
       "2                       63                        0   \n",
       "3                      166                        0   \n",
       "4                       35                        0   \n",
       "\n",
       "   Duration: Calisthenics (min)  Duration: Gymnastics (min)  \\\n",
       "0                             5                           0   \n",
       "1                             0                           0   \n",
       "2                             4                           0   \n",
       "3                             0                           0   \n",
       "4                             3                          15   \n",
       "\n",
       "   Duration: Pilates (min)  Duration: Swimming (min) Day of Week  \n",
       "0                       21                         0     Tuesday  \n",
       "1                        0                         0   Wednesday  \n",
       "2                        0                        30    Thursday  \n",
       "3                        0                         0      Friday  \n",
       "4                        0                         0    Saturday  "
      ]
     },
     "execution_count": 16,
     "metadata": {},
     "output_type": "execute_result"
    }
   ],
   "source": [
    "days_of_week = {0: 'Monday', 1: 'Tuesday', 2: 'Wednesday', 3: 'Thursday', 4: 'Friday', 5: 'Saturday', 6: 'Sunday'}\n",
    "data['Day of Week'].replace(days_of_week, inplace=True)\n",
    "data.head()"
   ]
  },
  {
   "cell_type": "markdown",
   "metadata": {},
   "source": [
    "And change columns order."
   ]
  },
  {
   "cell_type": "code",
   "execution_count": 17,
   "metadata": {},
   "outputs": [
    {
     "data": {
      "text/plain": [
       "Index(['Date', 'Calories (kcal)', 'Distance (m)', 'Average Speed (km/h)',\n",
       "       'Max Speed (km/h)', 'Min Speed (km/h)', 'Number of Steps',\n",
       "       'Active Minutes', 'Duration: Walking (min)', 'Duration: Running (min)',\n",
       "       'Duration: Calisthenics (min)', 'Duration: Gymnastics (min)',\n",
       "       'Duration: Pilates (min)', 'Duration: Swimming (min)', 'Day of Week'],\n",
       "      dtype='object')"
      ]
     },
     "execution_count": 17,
     "metadata": {},
     "output_type": "execute_result"
    }
   ],
   "source": [
    "data.columns"
   ]
  },
  {
   "cell_type": "code",
   "execution_count": 18,
   "metadata": {},
   "outputs": [
    {
     "data": {
      "text/html": [
       "<div>\n",
       "<style scoped>\n",
       "    .dataframe tbody tr th:only-of-type {\n",
       "        vertical-align: middle;\n",
       "    }\n",
       "\n",
       "    .dataframe tbody tr th {\n",
       "        vertical-align: top;\n",
       "    }\n",
       "\n",
       "    .dataframe thead th {\n",
       "        text-align: right;\n",
       "    }\n",
       "</style>\n",
       "<table border=\"1\" class=\"dataframe\">\n",
       "  <thead>\n",
       "    <tr style=\"text-align: right;\">\n",
       "      <th></th>\n",
       "      <th>Date</th>\n",
       "      <th>Day of Week</th>\n",
       "      <th>Calories (kcal)</th>\n",
       "      <th>Distance (m)</th>\n",
       "      <th>Average Speed (km/h)</th>\n",
       "      <th>Max Speed (km/h)</th>\n",
       "      <th>Min Speed (km/h)</th>\n",
       "      <th>Number of Steps</th>\n",
       "      <th>Active Minutes</th>\n",
       "      <th>Duration: Walking (min)</th>\n",
       "      <th>Duration: Running (min)</th>\n",
       "      <th>Duration: Calisthenics (min)</th>\n",
       "      <th>Duration: Gymnastics (min)</th>\n",
       "      <th>Duration: Pilates (min)</th>\n",
       "      <th>Duration: Swimming (min)</th>\n",
       "    </tr>\n",
       "  </thead>\n",
       "  <tbody>\n",
       "    <tr>\n",
       "      <th>0</th>\n",
       "      <td>2019-10-01</td>\n",
       "      <td>Tuesday</td>\n",
       "      <td>1647</td>\n",
       "      <td>387</td>\n",
       "      <td>3.4</td>\n",
       "      <td>4.4</td>\n",
       "      <td>2.2</td>\n",
       "      <td>1043</td>\n",
       "      <td>37</td>\n",
       "      <td>8</td>\n",
       "      <td>0</td>\n",
       "      <td>5</td>\n",
       "      <td>0</td>\n",
       "      <td>21</td>\n",
       "      <td>0</td>\n",
       "    </tr>\n",
       "    <tr>\n",
       "      <th>1</th>\n",
       "      <td>2019-10-02</td>\n",
       "      <td>Wednesday</td>\n",
       "      <td>1595</td>\n",
       "      <td>2944</td>\n",
       "      <td>3.2</td>\n",
       "      <td>45.7</td>\n",
       "      <td>0.3</td>\n",
       "      <td>5939</td>\n",
       "      <td>75</td>\n",
       "      <td>59</td>\n",
       "      <td>0</td>\n",
       "      <td>0</td>\n",
       "      <td>0</td>\n",
       "      <td>0</td>\n",
       "      <td>0</td>\n",
       "    </tr>\n",
       "    <tr>\n",
       "      <th>2</th>\n",
       "      <td>2019-10-03</td>\n",
       "      <td>Thursday</td>\n",
       "      <td>1809</td>\n",
       "      <td>3844</td>\n",
       "      <td>4.8</td>\n",
       "      <td>6.6</td>\n",
       "      <td>1.2</td>\n",
       "      <td>6255</td>\n",
       "      <td>95</td>\n",
       "      <td>63</td>\n",
       "      <td>0</td>\n",
       "      <td>4</td>\n",
       "      <td>0</td>\n",
       "      <td>0</td>\n",
       "      <td>30</td>\n",
       "    </tr>\n",
       "    <tr>\n",
       "      <th>3</th>\n",
       "      <td>2019-10-04</td>\n",
       "      <td>Friday</td>\n",
       "      <td>1899</td>\n",
       "      <td>8248</td>\n",
       "      <td>3.8</td>\n",
       "      <td>9.6</td>\n",
       "      <td>0.9</td>\n",
       "      <td>14816</td>\n",
       "      <td>171</td>\n",
       "      <td>166</td>\n",
       "      <td>0</td>\n",
       "      <td>0</td>\n",
       "      <td>0</td>\n",
       "      <td>0</td>\n",
       "      <td>0</td>\n",
       "    </tr>\n",
       "    <tr>\n",
       "      <th>4</th>\n",
       "      <td>2019-10-05</td>\n",
       "      <td>Saturday</td>\n",
       "      <td>1566</td>\n",
       "      <td>1679</td>\n",
       "      <td>4.7</td>\n",
       "      <td>49.9</td>\n",
       "      <td>1.7</td>\n",
       "      <td>3116</td>\n",
       "      <td>54</td>\n",
       "      <td>35</td>\n",
       "      <td>0</td>\n",
       "      <td>3</td>\n",
       "      <td>15</td>\n",
       "      <td>0</td>\n",
       "      <td>0</td>\n",
       "    </tr>\n",
       "  </tbody>\n",
       "</table>\n",
       "</div>"
      ],
      "text/plain": [
       "        Date Day of Week  Calories (kcal)  Distance (m)  Average Speed (km/h)  \\\n",
       "0 2019-10-01     Tuesday             1647           387                   3.4   \n",
       "1 2019-10-02   Wednesday             1595          2944                   3.2   \n",
       "2 2019-10-03    Thursday             1809          3844                   4.8   \n",
       "3 2019-10-04      Friday             1899          8248                   3.8   \n",
       "4 2019-10-05    Saturday             1566          1679                   4.7   \n",
       "\n",
       "   Max Speed (km/h)  Min Speed (km/h)  Number of Steps  Active Minutes  \\\n",
       "0               4.4               2.2             1043              37   \n",
       "1              45.7               0.3             5939              75   \n",
       "2               6.6               1.2             6255              95   \n",
       "3               9.6               0.9            14816             171   \n",
       "4              49.9               1.7             3116              54   \n",
       "\n",
       "   Duration: Walking (min)  Duration: Running (min)  \\\n",
       "0                        8                        0   \n",
       "1                       59                        0   \n",
       "2                       63                        0   \n",
       "3                      166                        0   \n",
       "4                       35                        0   \n",
       "\n",
       "   Duration: Calisthenics (min)  Duration: Gymnastics (min)  \\\n",
       "0                             5                           0   \n",
       "1                             0                           0   \n",
       "2                             4                           0   \n",
       "3                             0                           0   \n",
       "4                             3                          15   \n",
       "\n",
       "   Duration: Pilates (min)  Duration: Swimming (min)  \n",
       "0                       21                         0  \n",
       "1                        0                         0  \n",
       "2                        0                        30  \n",
       "3                        0                         0  \n",
       "4                        0                         0  "
      ]
     },
     "execution_count": 18,
     "metadata": {},
     "output_type": "execute_result"
    }
   ],
   "source": [
    "cols = ['Date', 'Day of Week', 'Calories (kcal)', 'Distance (m)', 'Average Speed (km/h)',\n",
    "       'Max Speed (km/h)', 'Min Speed (km/h)', 'Number of Steps',\n",
    "       'Active Minutes', 'Duration: Walking (min)', 'Duration: Running (min)',\n",
    "       'Duration: Calisthenics (min)', 'Duration: Gymnastics (min)',\n",
    "       'Duration: Pilates (min)', 'Duration: Swimming (min)']\n",
    "data = data[cols]\n",
    "data.head()"
   ]
  },
  {
   "cell_type": "markdown",
   "metadata": {},
   "source": [
    "## 4. Exploring data\n",
    "### 4.1. General indicators\n",
    "Now our data are clean and ready for exploration. We start with general indicators of activity: Calories, Distance, Number of Steps, and Active Minutes. First, we draw simple plot graphics for them."
   ]
  },
  {
   "cell_type": "code",
   "execution_count": 19,
   "metadata": {
    "scrolled": true
   },
   "outputs": [
    {
     "data": {
      "image/png": "[encoded data removed]",
      "text/plain": [
       "<Figure size 1224x720 with 4 Axes>"
      ]
     },
     "metadata": {
      "needs_background": "light"
     },
     "output_type": "display_data"
    }
   ],
   "source": [
    "fig, axs = plt.subplots(2, 2, figsize=(17,10))\n",
    "columns = ['Calories (kcal)', 'Distance (m)', 'Active Minutes', 'Number of Steps']\n",
    "colors = ['blue', 'green', 'orange', 'red']\n",
    "ind = 0\n",
    "for i in range(2):\n",
    "    for j in range(2):\n",
    "        axs[i, j].plot(data['Date'], data[columns[ind]], c=colors[ind])\n",
    "        axs[i, j].set_title(columns[ind] + ' vs. Date', fontsize=15)\n",
    "        axs[i, j].tick_params(bottom=False, top=False, left=False, right=False)\n",
    "        axs[i, j].spines['top'].set_visible(False)\n",
    "        axs[i, j].spines['bottom'].set_visible(False)\n",
    "        axs[i, j].spines['right'].set_visible(False)\n",
    "        axs[i, j].spines['left'].set_visible(False)\n",
    "        axs[i, j].grid()\n",
    "        ind += 1\n",
    "plt.show()"
   ]
  },
  {
   "cell_type": "code",
   "execution_count": 84,
   "metadata": {},
   "outputs": [
    {
     "data": {
      "image/png": "[encoded data removed]",
      "text/plain": [
       "<Figure size 720x360 with 1 Axes>"
      ]
     },
     "metadata": {
      "needs_background": "light"
     },
     "output_type": "display_data"
    }
   ],
   "source": [
    "fig = plt.figure(figsize=(10,5))\n",
    "plt.plot(data['Date'], data['Active Minutes'], color='b')\n",
    "plt.title('Minutes of Activity per Day', fontsize=15)\n",
    "plt.ylabel('Minutes of Activity', fontsize=12)\n",
    "plt.xticks(rotation=45)\n",
    "plt.tick_params(bottom=False, top=False, left=False, right=False)\n",
    "plt.gca().spines['top'].set_visible(False)\n",
    "plt.gca().spines['bottom'].set_visible(False)\n",
    "plt.gca().spines['right'].set_visible(False)\n",
    "plt.gca().spines['left'].set_visible(False)\n",
    "plt.show()\n",
    "fig.savefig('Minutes_of_Activity_per_Day.png', bbox_inches='tight')"
   ]
  },
  {
   "cell_type": "code",
   "execution_count": 21,
   "metadata": {},
   "outputs": [
    {
     "name": "stdout",
     "output_type": "stream",
     "text": [
      "[610, 470, 552, 367, 492, 553, 580, 483, 652, 520, 478, 599, 370, 10]\n"
     ]
    }
   ],
   "source": [
    "week_activity = []\n",
    "week_start = []\n",
    "for day in range(0, len(data['Date']), 7):\n",
    "    week = data['Active Minutes'][day:day+6].sum()\n",
    "    week_activity.append(week)\n",
    "    week_start.append(data['Date'][day])\n",
    "print(week_activity)"
   ]
  },
  {
   "cell_type": "code",
   "execution_count": 81,
   "metadata": {
    "scrolled": true
   },
   "outputs": [
    {
     "data": {
      "image/png": "[encoded data removed]",
      "text/plain": [
       "<Figure size 504x216 with 1 Axes>"
      ]
     },
     "metadata": {
      "needs_background": "light"
     },
     "output_type": "display_data"
    }
   ],
   "source": [
    "fig = plt.figure(figsize=(7, 3))\n",
    "fig.add_axes([0, 0, 1, 1])\n",
    "ax = plt.gca()\n",
    "\n",
    "plt.plot(week_start[:-1], week_activity[:-1], color='b')\n",
    "plt.axhline(150, linestyle='--', color='r')\n",
    "plt.title('Minutes of Activity per Week', fontsize=15)\n",
    "plt.ylabel('Minutes of Activity', fontsize=12)\n",
    "plt.xticks(rotation=45)\n",
    "plt.ylim(0, 700)\n",
    "plt.tick_params(bottom=False, top=False, left=False, right=False)\n",
    "plt.gca().spines['top'].set_visible(False)\n",
    "plt.gca().spines['right'].set_visible(False)\n",
    "plt.gca().spines['bottom'].set_visible(False)\n",
    "plt.gca().spines['left'].set_visible(False)\n",
    "# plt.grid()\n",
    "plt.text(0.82, 0.25, '150 minutes', transform=ax.transAxes, fontsize=12)\n",
    "plt.show()\n",
    "fig.savefig('Minutes_of_Activity_per_Week.png', bbox_inches='tight')"
   ]
  },
  {
   "cell_type": "markdown",
   "metadata": {},
   "source": [
    "We may notice that plot graphs for all indicators look very similar despite different units of measure. But not exactly. To understand if they depend on each other we count correlation coefficients."
   ]
  },
  {
   "cell_type": "code",
   "execution_count": 23,
   "metadata": {},
   "outputs": [
    {
     "data": {
      "text/plain": [
       "array([[1.        , 0.73514167, 0.83082444, 0.72022761],\n",
       "       [0.73514167, 1.        , 0.91839872, 0.98554188],\n",
       "       [0.83082444, 0.91839872, 1.        , 0.93737221],\n",
       "       [0.72022761, 0.98554188, 0.93737221, 1.        ]])"
      ]
     },
     "execution_count": 23,
     "metadata": {},
     "output_type": "execute_result"
    }
   ],
   "source": [
    "columns = [data['Calories (kcal)'], data['Distance (m)'], data['Active Minutes'], data['Number of Steps']]\n",
    "corr_coef_list = np.zeros((4, 4))\n",
    "for i in range(len(columns)):\n",
    "    for j in range(len(columns)):\n",
    "        corr_coef = np.corrcoef(columns[i], columns[j])\n",
    "        corr_coef = corr_coef[0][1]\n",
    "        corr_coef_list[i][j] = corr_coef\n",
    "        corr_coef_list[j][i] = corr_coef\n",
    "corr_coef_list"
   ]
  },
  {
   "cell_type": "markdown",
   "metadata": {},
   "source": [
    "We see that the highest correlation is between Distance and Number of Steps (0.98). And it was expected. Also between Number of Steps and Active Minutes (0.92): as longer my trip - the more time it takes. But not for 100%, because except for the time it depends on my speed. The next two indicates that have a strong correlation (0.91) are Distance and Active Minutes. And it is very natural from the previous two results.\n",
    "\n",
    "The smallest correlation is between Calories and Number of Steps (0.72) and also between Calories and Distance (0.73). It's because the amount of burned calories depends also on other activities I did.\n",
    "\n",
    "So let's talk about each indicator a little bit deeper.\n",
    "\n",
    "### 4.1.1. Calories"
   ]
  },
  {
   "cell_type": "code",
   "execution_count": 24,
   "metadata": {},
   "outputs": [
    {
     "data": {
      "text/plain": [
       "count      92.000000\n",
       "mean     1671.021739\n",
       "std       161.446618\n",
       "min      1394.000000\n",
       "25%      1550.750000\n",
       "50%      1673.000000\n",
       "75%      1748.750000\n",
       "max      2194.000000\n",
       "Name: Calories (kcal), dtype: float64"
      ]
     },
     "execution_count": 24,
     "metadata": {},
     "output_type": "execute_result"
    }
   ],
   "source": [
    "data['Calories (kcal)'].describe()"
   ]
  },
  {
   "cell_type": "markdown",
   "metadata": {},
   "source": [
    "I don't know how Google Fit counts calories I've burned. What's written on its site:\n",
    "> Google Fit uses a combination of your activity, your gender, your height, and your weight to estimate how many calories you burned.  It's an estimate of total calories burned and includes your basal metabolic rate (BMR), not just calories you burned in your activity.\n",
    "\n",
    "Anyway, the number of calories a person burns should match the number of calories a person eats. For now, we don't have data for calories I received. So assume that I eat like an average adult woman from 1500 to 2000 calories a day.\n",
    "\n",
    "We can see then the level of burned calories is within this frame and sometimes more. So I do not face either obesity or anorexia. It's good news. But the average number of burned calories is about 1700. It means that I need to do more sport if I want to become slimmer.\n",
    "\n",
    "#### 4.1.2. Distance"
   ]
  },
  {
   "cell_type": "code",
   "execution_count": 25,
   "metadata": {},
   "outputs": [
    {
     "data": {
      "text/plain": [
       "count       92.000000\n",
       "mean      4374.010870\n",
       "std       2492.176962\n",
       "min          0.000000\n",
       "25%       2779.250000\n",
       "50%       4470.500000\n",
       "75%       6124.250000\n",
       "max      12104.000000\n",
       "Name: Distance (m), dtype: float64"
      ]
     },
     "execution_count": 25,
     "metadata": {},
     "output_type": "execute_result"
    }
   ],
   "source": [
    "data['Distance (m)'].describe()"
   ]
  },
  {
   "cell_type": "markdown",
   "metadata": {},
   "source": [
    "The minimum distance was 0. This is logical. Of course, it occurred that days I stayed at home. And the maximum distance I walked was 12 and a little bit more kilometers. It's pretty many. Let's look at when it happened."
   ]
  },
  {
   "cell_type": "code",
   "execution_count": 26,
   "metadata": {},
   "outputs": [
    {
     "data": {
      "text/html": [
       "<div>\n",
       "<style scoped>\n",
       "    .dataframe tbody tr th:only-of-type {\n",
       "        vertical-align: middle;\n",
       "    }\n",
       "\n",
       "    .dataframe tbody tr th {\n",
       "        vertical-align: top;\n",
       "    }\n",
       "\n",
       "    .dataframe thead th {\n",
       "        text-align: right;\n",
       "    }\n",
       "</style>\n",
       "<table border=\"1\" class=\"dataframe\">\n",
       "  <thead>\n",
       "    <tr style=\"text-align: right;\">\n",
       "      <th></th>\n",
       "      <th>Date</th>\n",
       "      <th>Day of Week</th>\n",
       "      <th>Distance (m)</th>\n",
       "    </tr>\n",
       "  </thead>\n",
       "  <tbody>\n",
       "    <tr>\n",
       "      <th>58</th>\n",
       "      <td>2019-11-28</td>\n",
       "      <td>Thursday</td>\n",
       "      <td>12104</td>\n",
       "    </tr>\n",
       "  </tbody>\n",
       "</table>\n",
       "</div>"
      ],
      "text/plain": [
       "         Date Day of Week  Distance (m)\n",
       "58 2019-11-28    Thursday         12104"
      ]
     },
     "execution_count": 26,
     "metadata": {},
     "output_type": "execute_result"
    }
   ],
   "source": [
    "row = data.loc[data['Distance (m)'] == data['Distance (m)'].max()]\n",
    "row[['Date', 'Day of Week', 'Distance (m)']]"
   ]
  },
  {
   "cell_type": "markdown",
   "metadata": {},
   "source": [
    "The 28 of November. Oh, I remember that day. I walked around the Old City in Jerusalem. It was a cool day.\n",
    "\n",
    "And the one more output from this data is that usually, I walk more than four kilometers every day. Not so much, but not so little, ah?\n",
    "\n",
    "Now let's take a look at how many days I stayed at home without one step outdoor. Google Fit counts every step I make with the phone in my hand even from the bedroom to the kitchen. So let's set a cut line with 100 meters. Less than this I can't walk outdoors."
   ]
  },
  {
   "cell_type": "code",
   "execution_count": 27,
   "metadata": {
    "scrolled": true
   },
   "outputs": [
    {
     "data": {
      "text/html": [
       "<div>\n",
       "<style scoped>\n",
       "    .dataframe tbody tr th:only-of-type {\n",
       "        vertical-align: middle;\n",
       "    }\n",
       "\n",
       "    .dataframe tbody tr th {\n",
       "        vertical-align: top;\n",
       "    }\n",
       "\n",
       "    .dataframe thead th {\n",
       "        text-align: right;\n",
       "    }\n",
       "</style>\n",
       "<table border=\"1\" class=\"dataframe\">\n",
       "  <thead>\n",
       "    <tr style=\"text-align: right;\">\n",
       "      <th></th>\n",
       "      <th>Date</th>\n",
       "      <th>Day of Week</th>\n",
       "      <th>Distance (m)</th>\n",
       "    </tr>\n",
       "  </thead>\n",
       "  <tbody>\n",
       "    <tr>\n",
       "      <th>19</th>\n",
       "      <td>2019-10-20</td>\n",
       "      <td>Sunday</td>\n",
       "      <td>0</td>\n",
       "    </tr>\n",
       "    <tr>\n",
       "      <th>67</th>\n",
       "      <td>2019-12-07</td>\n",
       "      <td>Saturday</td>\n",
       "      <td>9</td>\n",
       "    </tr>\n",
       "    <tr>\n",
       "      <th>88</th>\n",
       "      <td>2019-12-28</td>\n",
       "      <td>Saturday</td>\n",
       "      <td>48</td>\n",
       "    </tr>\n",
       "  </tbody>\n",
       "</table>\n",
       "</div>"
      ],
      "text/plain": [
       "         Date Day of Week  Distance (m)\n",
       "19 2019-10-20      Sunday             0\n",
       "67 2019-12-07    Saturday             9\n",
       "88 2019-12-28    Saturday            48"
      ]
     },
     "execution_count": 27,
     "metadata": {},
     "output_type": "execute_result"
    }
   ],
   "source": [
    "row = data.loc[data['Distance (m)'] <= 100]\n",
    "row[['Date', 'Day of Week', 'Distance (m)']]"
   ]
  },
  {
   "cell_type": "markdown",
   "metadata": {},
   "source": [
    "Only three days. And they are Saturdays and Sundays what is very natural.\n",
    "\n",
    "And the last question about the distance: how many kilometers did I walk during those three months?"
   ]
  },
  {
   "cell_type": "code",
   "execution_count": 28,
   "metadata": {},
   "outputs": [
    {
     "data": {
      "text/plain": [
       "402409"
      ]
     },
     "execution_count": 28,
     "metadata": {},
     "output_type": "execute_result"
    }
   ],
   "source": [
    "data['Distance (m)'].sum()"
   ]
  },
  {
   "cell_type": "markdown",
   "metadata": {},
   "source": [
    "#### 4.1.3. Number of Steps"
   ]
  },
  {
   "cell_type": "code",
   "execution_count": 29,
   "metadata": {},
   "outputs": [
    {
     "data": {
      "text/plain": [
       "count       92.000000\n",
       "mean      7511.576087\n",
       "std       4061.920913\n",
       "min         12.000000\n",
       "25%       4701.750000\n",
       "50%       8004.500000\n",
       "75%      10095.000000\n",
       "max      19205.000000\n",
       "Name: Number of Steps, dtype: float64"
      ]
     },
     "execution_count": 29,
     "metadata": {},
     "output_type": "execute_result"
    }
   ],
   "source": [
    "data['Number of Steps'].describe()"
   ]
  },
  {
   "cell_type": "markdown",
   "metadata": {},
   "source": [
    "The maximum value is more them 19000 steps a day. And the minimum is 12. Exactly from my room to the kitchen.\n",
    "\n",
    "Ok, let's look at a graph again."
   ]
  },
  {
   "cell_type": "code",
   "execution_count": 82,
   "metadata": {
    "scrolled": false
   },
   "outputs": [
    {
     "data": {
      "image/png": "[encoded data removed]",
      "text/plain": [
       "<Figure size 576x288 with 1 Axes>"
      ]
     },
     "metadata": {
      "needs_background": "light"
     },
     "output_type": "display_data"
    }
   ],
   "source": [
    "fig = plt.figure(figsize=(8, 4))\n",
    "plt.plot(data['Date'], data['Number of Steps'], color='b')\n",
    "plt.title('Number of Steps per Day', fontsize=15)\n",
    "plt.ylabel('Number of Steps', fontsize=12)\n",
    "plt.xticks(rotation=45)\n",
    "plt.tick_params(bottom=False, top=False, left=False, right=False)\n",
    "plt.gca().spines['top'].set_visible(False)\n",
    "plt.gca().spines['bottom'].set_visible(False)\n",
    "plt.gca().spines['right'].set_visible(False)\n",
    "plt.gca().spines['left'].set_visible(False)\n",
    "# plt.grid()\n",
    "plt.show()\n",
    "fig.savefig('Number_of_Steps_per_Day.png', bbox_inches='tight')"
   ]
  },
  {
   "cell_type": "markdown",
   "metadata": {},
   "source": [
    "The largest amount of data lays between 2500 and 12000 steps. But there are several days with a much more big number. Let's look at them."
   ]
  },
  {
   "cell_type": "code",
   "execution_count": 31,
   "metadata": {
    "scrolled": true
   },
   "outputs": [
    {
     "data": {
      "text/html": [
       "<div>\n",
       "<style scoped>\n",
       "    .dataframe tbody tr th:only-of-type {\n",
       "        vertical-align: middle;\n",
       "    }\n",
       "\n",
       "    .dataframe tbody tr th {\n",
       "        vertical-align: top;\n",
       "    }\n",
       "\n",
       "    .dataframe thead th {\n",
       "        text-align: right;\n",
       "    }\n",
       "</style>\n",
       "<table border=\"1\" class=\"dataframe\">\n",
       "  <thead>\n",
       "    <tr style=\"text-align: right;\">\n",
       "      <th></th>\n",
       "      <th>Date</th>\n",
       "      <th>Day of Week</th>\n",
       "      <th>Number of Steps</th>\n",
       "    </tr>\n",
       "  </thead>\n",
       "  <tbody>\n",
       "    <tr>\n",
       "      <th>83</th>\n",
       "      <td>2019-12-23</td>\n",
       "      <td>Monday</td>\n",
       "      <td>19205</td>\n",
       "    </tr>\n",
       "    <tr>\n",
       "      <th>58</th>\n",
       "      <td>2019-11-28</td>\n",
       "      <td>Thursday</td>\n",
       "      <td>19060</td>\n",
       "    </tr>\n",
       "    <tr>\n",
       "      <th>5</th>\n",
       "      <td>2019-10-06</td>\n",
       "      <td>Sunday</td>\n",
       "      <td>16132</td>\n",
       "    </tr>\n",
       "    <tr>\n",
       "      <th>3</th>\n",
       "      <td>2019-10-04</td>\n",
       "      <td>Friday</td>\n",
       "      <td>14816</td>\n",
       "    </tr>\n",
       "    <tr>\n",
       "      <th>45</th>\n",
       "      <td>2019-11-15</td>\n",
       "      <td>Friday</td>\n",
       "      <td>12941</td>\n",
       "    </tr>\n",
       "  </tbody>\n",
       "</table>\n",
       "</div>"
      ],
      "text/plain": [
       "         Date Day of Week  Number of Steps\n",
       "83 2019-12-23      Monday            19205\n",
       "58 2019-11-28    Thursday            19060\n",
       "5  2019-10-06      Sunday            16132\n",
       "3  2019-10-04      Friday            14816\n",
       "45 2019-11-15      Friday            12941"
      ]
     },
     "execution_count": 31,
     "metadata": {},
     "output_type": "execute_result"
    }
   ],
   "source": [
    "steps = data.sort_values(by = 'Number of Steps', ascending = False)\n",
    "steps[['Date', 'Day of Week', 'Number of Steps']].head()"
   ]
  },
  {
   "cell_type": "markdown",
   "metadata": {},
   "source": [
    "We see that the 28th of November is again with us. As we remember it's the day with the longest distance I walked.\n",
    "\n",
    "As you maybe know World Health Organization affirms that we need to walk not less than 10 000 steps every day to be healthy. Let's add to our plot this line."
   ]
  },
  {
   "cell_type": "code",
   "execution_count": 94,
   "metadata": {},
   "outputs": [
    {
     "data": {
      "image/png": "[encoded data removed]",
      "text/plain": [
       "<Figure size 576x288 with 1 Axes>"
      ]
     },
     "metadata": {
      "needs_background": "light"
     },
     "output_type": "display_data"
    }
   ],
   "source": [
    "fig = plt.figure(figsize=(8, 4))\n",
    "plt.plot(data['Date'], data['Number of Steps'], color='b')\n",
    "plt.title('Number of Steps per Day', fontsize=15)\n",
    "plt.ylabel('Number of Steps', fontsize=12)\n",
    "plt.axhline(10000, linestyle='--', color='r', label = '10 000 steps', linewidth=0.5)\n",
    "plt.xticks(rotation=45)\n",
    "plt.tick_params(bottom=False, top=False, left=False, right=False)\n",
    "plt.gca().spines['top'].set_visible(False)\n",
    "plt.gca().spines['right'].set_visible(False)\n",
    "plt.gca().spines['bottom'].set_visible(False)\n",
    "plt.gca().spines['left'].set_visible(False)\n",
    "# plt.grid()\n",
    "plt.legend(loc='upper left', fontsize=12)\n",
    "plt.show()\n",
    "fig.savefig('Number_of_Steps_per_Day.png', bbox_inches='tight')"
   ]
  },
  {
   "cell_type": "markdown",
   "metadata": {},
   "source": [
    "And let's count what percentage of days did I fulfilled this condition."
   ]
  },
  {
   "cell_type": "code",
   "execution_count": 33,
   "metadata": {
    "scrolled": true
   },
   "outputs": [
    {
     "name": "stdout",
     "output_type": "stream",
     "text": [
      "25.0%\n"
     ]
    }
   ],
   "source": [
    "more_then_10000_steps = sum(data['Number of Steps'] > 10000)\n",
    "print('{}%'.format(more_then_10000_steps / 92 * 100))"
   ]
  },
  {
   "cell_type": "markdown",
   "metadata": {},
   "source": [
    "Not enough, I think. I should work on it.\n",
    "#### 4.1.4. Active Minutes"
   ]
  },
  {
   "cell_type": "code",
   "execution_count": 34,
   "metadata": {},
   "outputs": [
    {
     "data": {
      "text/plain": [
       "count     92.000000\n",
       "mean      88.293478\n",
       "std       45.031256\n",
       "min        0.000000\n",
       "25%       54.750000\n",
       "50%       91.500000\n",
       "75%      120.250000\n",
       "max      203.000000\n",
       "Name: Active Minutes, dtype: float64"
      ]
     },
     "execution_count": 34,
     "metadata": {},
     "output_type": "execute_result"
    }
   ],
   "source": [
    "data['Active Minutes'].describe()"
   ]
  },
  {
   "cell_type": "markdown",
   "metadata": {},
   "source": [
    "The minimum value in this column is 0 - when I allowed myself to rest. The maximum is 203 minutes, e.g. about three hours. And the average time is an hour and a half.\n",
    "\n",
    "Let's make a histogram that describes my everyday activity."
   ]
  },
  {
   "cell_type": "code",
   "execution_count": 86,
   "metadata": {},
   "outputs": [
    {
     "data": {
      "image/png": "[encoded data removed]",
      "text/plain": [
       "<Figure size 504x360 with 1 Axes>"
      ]
     },
     "metadata": {
      "needs_background": "light"
     },
     "output_type": "display_data"
    }
   ],
   "source": [
    "fig = plt.figure(figsize=(7,5))\n",
    "plt.hist(data['Active Minutes'], 7, alpha=0.3, color='b', edgecolor='b')\n",
    "plt.xticks(range(0, 240, 30))\n",
    "plt.title('Intervals in minutes', fontsize=15)\n",
    "# plt.xlabel('Intervals in minutes', fontsize=12)\n",
    "plt.ylabel('Number of days', fontsize=12)\n",
    "plt.tick_params(bottom=False, top=False, left=False, right=False)\n",
    "plt.gca().spines['top'].set_visible(False)\n",
    "plt.gca().spines['bottom'].set_visible(False)\n",
    "plt.gca().spines['right'].set_visible(False)\n",
    "plt.gca().spines['left'].set_visible(False)\n",
    "plt.show()\n",
    "fig.savefig('Intervals_in_minutes.png', bbox_inches='tight')"
   ]
  },
  {
   "cell_type": "markdown",
   "metadata": {},
   "source": [
    "We see that this histogram has an almost normal distribution. The most common interval between 90 and 120 minutes. And after two and a half houses the number of days, I walked so long drops sharply. I never walked for more than three hours.\n",
    "\n",
    "The next interesting question is on which days of the week I walk more and on which - less? Does it depend on the day of the week or not at all?\n",
    "\n",
    "First, we count all sums of minutes per day of the week."
   ]
  },
  {
   "cell_type": "code",
   "execution_count": 36,
   "metadata": {
    "scrolled": true
   },
   "outputs": [
    {
     "data": {
      "text/plain": [
       "Day of Week\n",
       "Friday       1252\n",
       "Monday       1387\n",
       "Saturday      489\n",
       "Sunday       1244\n",
       "Thursday     1262\n",
       "Tuesday      1295\n",
       "Wednesday    1194\n",
       "Name: Active Minutes, dtype: int32"
      ]
     },
     "execution_count": 36,
     "metadata": {},
     "output_type": "execute_result"
    }
   ],
   "source": [
    "active_minutes_per_day_of_week = data.groupby('Day of Week')['Active Minutes'].sum()\n",
    "active_minutes_per_day_of_week"
   ]
  },
  {
   "cell_type": "markdown",
   "metadata": {},
   "source": [
    "We see that they grouped without any order. It's not good for our analysis. Let's bring it to the usual order."
   ]
  },
  {
   "cell_type": "code",
   "execution_count": 37,
   "metadata": {},
   "outputs": [
    {
     "data": {
      "text/plain": [
       "Day of Week\n",
       "Sunday       1244\n",
       "Monday       1387\n",
       "Tuesday      1295\n",
       "Wednesday    1194\n",
       "Thursday     1262\n",
       "Friday       1252\n",
       "Saturday      489\n",
       "Name: Active Minutes, dtype: int32"
      ]
     },
     "execution_count": 37,
     "metadata": {},
     "output_type": "execute_result"
    }
   ],
   "source": [
    "days_of_week = ['Sunday', 'Monday', 'Tuesday', 'Wednesday', 'Thursday', 'Friday', 'Saturday']\n",
    "active_minutes_per_day_of_week = active_minutes_per_day_of_week.reindex(days_of_week)\n",
    "active_minutes_per_day_of_week"
   ]
  },
  {
   "cell_type": "markdown",
   "metadata": {},
   "source": [
    "Also, we may calculate the average activity in minutes per day of the week. But we should be accurate: there may be a different number of different days of the week in a month. So we need to count how many times each day of the week appears in our data."
   ]
  },
  {
   "cell_type": "code",
   "execution_count": 38,
   "metadata": {},
   "outputs": [
    {
     "data": {
      "text/plain": [
       "Sunday       13\n",
       "Monday       13\n",
       "Tuesday      14\n",
       "Wednesday    13\n",
       "Thursday     13\n",
       "Friday       13\n",
       "Saturday     13\n",
       "Name: Day of Week, dtype: int64"
      ]
     },
     "execution_count": 38,
     "metadata": {},
     "output_type": "execute_result"
    }
   ],
   "source": [
    "number_of_days = data['Day of Week'].value_counts()\n",
    "number_of_days = number_of_days.reindex(days_of_week)\n",
    "number_of_days"
   ]
  },
  {
   "cell_type": "markdown",
   "metadata": {},
   "source": [
    "And then we can calculate the average active minutes per day of the week."
   ]
  },
  {
   "cell_type": "code",
   "execution_count": 39,
   "metadata": {
    "scrolled": true
   },
   "outputs": [
    {
     "data": {
      "text/plain": [
       "Day of Week\n",
       "Sunday        95\n",
       "Monday       106\n",
       "Tuesday       92\n",
       "Wednesday     91\n",
       "Thursday      97\n",
       "Friday        96\n",
       "Saturday      37\n",
       "dtype: int64"
      ]
     },
     "execution_count": 39,
     "metadata": {},
     "output_type": "execute_result"
    }
   ],
   "source": [
    "for day in days_of_week:\n",
    "    average_active_minutes_per_day_of_week = active_minutes_per_day_of_week // number_of_days\n",
    "average_active_minutes_per_day_of_week"
   ]
  },
  {
   "cell_type": "markdown",
   "metadata": {},
   "source": [
    "We can draw a graphic that shows these results visually."
   ]
  },
  {
   "cell_type": "code",
   "execution_count": 89,
   "metadata": {
    "scrolled": false
   },
   "outputs": [
    {
     "data": {
      "image/png": "[encoded data removed]",
      "text/plain": [
       "<Figure size 504x216 with 1 Axes>"
      ]
     },
     "metadata": {
      "needs_background": "light"
     },
     "output_type": "display_data"
    }
   ],
   "source": [
    "fig = plt.figure(figsize=(7,3))\n",
    "plt.plot(range(7), average_active_minutes_per_day_of_week, color='b')\n",
    "plt.ylabel('Activity in minutes', fontsize=12)\n",
    "plt.title('Average active Minutes per Day of Week', fontsize=15)\n",
    "plt.xticks(range(7), days_of_week, rotation='45')\n",
    "plt.yticks(range(0, 120, 20))\n",
    "plt.tick_params(bottom=False, top=False, left=False, right=False)\n",
    "plt.gca().spines['top'].set_visible(False)\n",
    "plt.gca().spines['right'].set_visible(False)\n",
    "plt.gca().spines['bottom'].set_visible(False)\n",
    "plt.gca().spines['left'].set_visible(False)\n",
    "# plt.grid()\n",
    "plt.show()\n",
    "fig.savefig('Average_active_Minutes_per_Day_of_Week.png', bbox_inches='tight')"
   ]
  },
  {
   "cell_type": "markdown",
   "metadata": {},
   "source": [
    "It looks very natural. Like many other people, I do a lot of stuff on Mondays and prefer to stay at home and rest."
   ]
  },
  {
   "cell_type": "markdown",
   "metadata": {},
   "source": [
    "### 4.2. Speed\n",
    "\n",
    "Let's quickly talk about speed columns in data. We have three of them: average, minimum and maximum ones. \n",
    "\n",
    "#### 4.2.1. Average speed"
   ]
  },
  {
   "cell_type": "code",
   "execution_count": 41,
   "metadata": {
    "scrolled": true
   },
   "outputs": [
    {
     "data": {
      "text/plain": [
       "count    92.000000\n",
       "mean      3.620652\n",
       "std       1.808560\n",
       "min       1.600000\n",
       "25%       2.775000\n",
       "50%       3.200000\n",
       "75%       3.825000\n",
       "max      17.000000\n",
       "Name: Average Speed (km/h), dtype: float64"
      ]
     },
     "execution_count": 41,
     "metadata": {},
     "output_type": "execute_result"
    }
   ],
   "source": [
    "data['Average Speed (km/h)'].describe()"
   ]
  },
  {
   "cell_type": "markdown",
   "metadata": {},
   "source": [
    "We see that the average speed is 3,6 kilometers per hour. It's normal to average speed people are walking. Nothing strange. The minimum average speed is 1,8 kilometers like we walk around shops. But maximum average speed gives us some strange result: 17 kilometers per hour. Maybe when I tried to catch up on a bus.\n",
    "\n",
    "#### 4.2. Minimum Speed"
   ]
  },
  {
   "cell_type": "code",
   "execution_count": 42,
   "metadata": {},
   "outputs": [
    {
     "data": {
      "text/plain": [
       "count    92.000000\n",
       "mean      0.751087\n",
       "std       0.470561\n",
       "min       0.000000\n",
       "25%       0.400000\n",
       "50%       0.900000\n",
       "75%       1.000000\n",
       "max       2.500000\n",
       "Name: Min Speed (km/h), dtype: float64"
      ]
     },
     "execution_count": 42,
     "metadata": {},
     "output_type": "execute_result"
    }
   ],
   "source": [
    "data['Min Speed (km/h)'].describe()"
   ]
  },
  {
   "cell_type": "markdown",
   "metadata": {},
   "source": [
    "Google divides all speed values into these three groups to give us information about our everyday movement. And for each separate day, it makes sense. But now in this form, it's not very useful. We just see that the minimum speed does not exceed 2.5 kilometers per hour and usually, its value is 0.75 kilometers per hour.\n",
    "\n",
    "#### 4.3. Maximum Speed"
   ]
  },
  {
   "cell_type": "code",
   "execution_count": 43,
   "metadata": {
    "scrolled": false
   },
   "outputs": [
    {
     "data": {
      "text/plain": [
       "count     92.000000\n",
       "mean      28.648913\n",
       "std       30.366691\n",
       "min        4.000000\n",
       "25%        6.900000\n",
       "50%       13.300000\n",
       "75%       41.725000\n",
       "max      127.800000\n",
       "Name: Max Speed (km/h), dtype: float64"
      ]
     },
     "execution_count": 43,
     "metadata": {},
     "output_type": "execute_result"
    }
   ],
   "source": [
    "data['Max Speed (km/h)'].describe()"
   ]
  },
  {
   "cell_type": "markdown",
   "metadata": {},
   "source": [
    "Here we have the most strange data. What does it meen: maximum speed 127 kilometers per hour. It's quicker then guepard!\n",
    "\n",
    "But when we look at all this data together we see that every day speed veries from 0.75 to 28 kilometers (for some seconds) with the average value of 3.6 kilomoters per hour."
   ]
  },
  {
   "cell_type": "markdown",
   "metadata": {},
   "source": [
    "### 4.3. Different activities\n",
    "\n",
    "And now it's time to talk about all the different kinds of activities in data I did during those three months to become a little bit more sportive.\n",
    "\n",
    "We have six of them: walking, running, calisthenics, gymnastics, pilates, and swimming. Walking and running Goggle Fit count automatically. For calisthenics, gymnastics, and pilates I downloaded special applications that send information to Google Fit every time I use them. And data for swimming I added to Google Fit manually.\n",
    "\n",
    "#### 4.3.1. Proportion\n",
    "\n",
    "First, we want to show a proportion of all kinds of sports according to the total time I spent training."
   ]
  },
  {
   "cell_type": "code",
   "execution_count": 92,
   "metadata": {},
   "outputs": [
    {
     "data": {
      "image/png": "[encoded data removed]",
      "text/plain": [
       "<Figure size 720x360 with 1 Axes>"
      ]
     },
     "metadata": {
      "needs_background": "light"
     },
     "output_type": "display_data"
    }
   ],
   "source": [
    "walking = data['Duration: Walking (min)'].sum()\n",
    "running = data['Duration: Running (min)'].sum()\n",
    "calisthenics = data['Duration: Calisthenics (min)'].sum()\n",
    "gymnastics = data['Duration: Gymnastics (min)'].sum()\n",
    "pilates = data['Duration: Pilates (min)'].sum()\n",
    "swimming = data['Duration: Swimming (min)'].sum()\n",
    "\n",
    "activities_array = [walking, running, calisthenics, gymnastics, swimming, pilates]\n",
    "activities_labels = ['Walking', 'Running', 'Calisthenics', 'Gymnastics', 'Swimming', 'Pilates']\n",
    "\n",
    "frame = {'Activity': activities_labels, 'Duration': activities_array}\n",
    "\n",
    "activities = pd.DataFrame(frame)\n",
    "activities.sort_values(by=['Duration'], inplace=True)\n",
    "\n",
    "fig = plt.figure(figsize=(10,5))\n",
    "plt.barh(activities['Activity'], activities['Duration'], alpha=0.3, color='b', edgecolor='b')\n",
    "plt.barh(activities['Activity'][0], activities['Duration'][0], alpha=0.3, color='r', edgecolor='r')\n",
    "plt.title('Different Activities', fontsize=15)\n",
    "plt.tick_params(bottom=False, top=False, left=False, right=False)\n",
    "plt.gca().spines['top'].set_visible(False)\n",
    "plt.gca().spines['right'].set_visible(False)\n",
    "plt.gca().spines['left'].set_visible(False)\n",
    "plt.gca().spines['bottom'].set_visible(False)\n",
    "plt.xlabel('Activity in minutes', fontsize=12)\n",
    "plt.show()\n",
    "fig.savefig('Different_Activities.png', bbox_inches='tight')"
   ]
  },
  {
   "cell_type": "markdown",
   "metadata": {},
   "source": [
    "Impressive, ah? I almost didn't do anything except just walking around. It's more than 75% of all my activities. In the second place is swimming, then a little calisthenics and then almost invisible running, gymnastics and pilates.\n",
    "\n",
    "Ok. It's not the time to be upset. Let's continue.\n",
    "\n",
    "#### 4.3.2. Walking\n",
    "\n",
    "We already have talked a lot about it when described distance (in kilometers) and steps (in units). Now we talk exactly about minutes amount of walking. How long time every day I walked."
   ]
  },
  {
   "cell_type": "code",
   "execution_count": 45,
   "metadata": {},
   "outputs": [
    {
     "data": {
      "text/plain": [
       "count     92.000000\n",
       "mean      75.326087\n",
       "std       41.268382\n",
       "min        0.000000\n",
       "25%       46.500000\n",
       "50%       75.000000\n",
       "75%      101.250000\n",
       "max      196.000000\n",
       "Name: Duration: Walking (min), dtype: float64"
      ]
     },
     "execution_count": 45,
     "metadata": {},
     "output_type": "execute_result"
    }
   ],
   "source": [
    "data['Duration: Walking (min)'].describe()"
   ]
  },
  {
   "cell_type": "markdown",
   "metadata": {},
   "source": [
    "We see that the average walking time is 75 minutes in a day. More than an hour. When we go every day to work or store we even don't think how much time we spend on movement from one place to another. But it's important because has an impact on whole our life.\n",
    "\n",
    "Let's look at the histogram that describes walking data. We divide all time into intervals of 30 minutes and explore how many days fall in each of them."
   ]
  },
  {
   "cell_type": "code",
   "execution_count": 46,
   "metadata": {},
   "outputs": [
    {
     "data": {
      "image/png": "[encoded data removed]",
      "text/plain": [
       "<Figure size 576x360 with 1 Axes>"
      ]
     },
     "metadata": {
      "needs_background": "light"
     },
     "output_type": "display_data"
    }
   ],
   "source": [
    "fig = plt.subplots(figsize=(8,5))\n",
    "plt.hist(data['Duration: Walking (min)'], bins=8, range=(0, 240), \n",
    "         alpha = 0.30, color='b', edgecolor='b')\n",
    "plt.xticks(range(0, 240, 30))\n",
    "plt.title('Walking Histogram', fontsize=15)\n",
    "plt.xlabel('Intervals in Minutes', fontsize=12)\n",
    "plt.ylabel(\"\")\n",
    "plt.tick_params(bottom=False, top=False, left=False, right=False)\n",
    "plt.gca().spines['top'].set_visible(False)\n",
    "plt.gca().spines['bottom'].set_visible(False)\n",
    "plt.gca().spines['right'].set_visible(False)\n",
    "plt.gca().spines['left'].set_visible(False)\n",
    "plt.yticks([])\n",
    "plt.show()"
   ]
  },
  {
   "cell_type": "markdown",
   "metadata": {},
   "source": [
    "It's very similar to the histogram of active minutes and we know the reason for it. So the most common interval is from one to two hours. Which correlates with the previous result.\n",
    "\n",
    "#### 4.3.3. Running\n",
    "\n",
    "I never run for a purpose. It's not my kind of sport at all. So it was very strange to see this data in the table. I suppose that Google Fit considers as running those moments when I try to catch a bus or something like this. Anyway, let's look at when and how often it happened."
   ]
  },
  {
   "cell_type": "code",
   "execution_count": 47,
   "metadata": {},
   "outputs": [
    {
     "data": {
      "text/plain": [
       "47   2019-11-17\n",
       "54   2019-11-24\n",
       "65   2019-12-05\n",
       "68   2019-12-08\n",
       "80   2019-12-20\n",
       "Name: Date, dtype: datetime64[ns]"
      ]
     },
     "execution_count": 47,
     "metadata": {},
     "output_type": "execute_result"
    }
   ],
   "source": [
    "row = data.loc[data['Duration: Running (min)'] != 0]\n",
    "row['Date']"
   ]
  },
  {
   "cell_type": "markdown",
   "metadata": {},
   "source": [
    "Only five times. Maybe it's a sign that I shall start to run?\n",
    "\n",
    "#### 4.3.4. Swimming"
   ]
  },
  {
   "cell_type": "code",
   "execution_count": 48,
   "metadata": {
    "scrolled": true
   },
   "outputs": [
    {
     "data": {
      "text/plain": [
       "count    92.000000\n",
       "mean      4.347826\n",
       "std      10.409669\n",
       "min       0.000000\n",
       "25%       0.000000\n",
       "50%       0.000000\n",
       "75%       0.000000\n",
       "max      30.000000\n",
       "Name: Duration: Swimming (min), dtype: float64"
      ]
     },
     "execution_count": 48,
     "metadata": {},
     "output_type": "execute_result"
    }
   ],
   "source": [
    "data['Duration: Swimming (min)'].describe()"
   ]
  },
  {
   "cell_type": "markdown",
   "metadata": {},
   "source": [
    "Swimming is my favorite kind of sport. I suppose that I did it quite hard. Now data look strange. The average amount of 5 minutes raises questions. Obviously, it's because of null values. Let's consider only non-null rows in the frame."
   ]
  },
  {
   "cell_type": "code",
   "execution_count": 49,
   "metadata": {},
   "outputs": [
    {
     "data": {
      "text/plain": [
       "count    14.000000\n",
       "mean     28.571429\n",
       "std       3.631365\n",
       "min      20.000000\n",
       "25%      30.000000\n",
       "50%      30.000000\n",
       "75%      30.000000\n",
       "max      30.000000\n",
       "Name: Duration: Swimming (min), dtype: float64"
      ]
     },
     "execution_count": 49,
     "metadata": {},
     "output_type": "execute_result"
    }
   ],
   "source": [
    "swimming = data['Duration: Swimming (min)']\n",
    "swimming = swimming[swimming != 0]\n",
    "swimming.describe()"
   ]
  },
  {
   "cell_type": "markdown",
   "metadata": {},
   "source": [
    "Now it has much more sense. Let's count how many times occur each period."
   ]
  },
  {
   "cell_type": "code",
   "execution_count": 50,
   "metadata": {},
   "outputs": [
    {
     "data": {
      "text/plain": [
       "0     78\n",
       "30    12\n",
       "20     2\n",
       "Name: Duration: Swimming (min), dtype: int64"
      ]
     },
     "execution_count": 50,
     "metadata": {},
     "output_type": "execute_result"
    }
   ],
   "source": [
    "data['Duration: Swimming (min)'].value_counts()"
   ]
  },
  {
   "cell_type": "markdown",
   "metadata": {},
   "source": [
    "We see that I spend in the swimming pool 20 or 30 minutes. Not so much but better than nothing.\n",
    "\n",
    "Let's count how many days I swam every month."
   ]
  },
  {
   "cell_type": "code",
   "execution_count": 51,
   "metadata": {
    "scrolled": true
   },
   "outputs": [
    {
     "data": {
      "text/plain": [
       "11    8\n",
       "10    6\n",
       "Name: Date, dtype: int64"
      ]
     },
     "execution_count": 51,
     "metadata": {},
     "output_type": "execute_result"
    }
   ],
   "source": [
    "swimming_rows = data.loc[data['Duration: Swimming (min)'].isin([20, 30])]\n",
    "swimmimg_in_months = swimming_rows['Date'].dt.month.value_counts()\n",
    "swimmimg_in_months"
   ]
  },
  {
   "cell_type": "markdown",
   "metadata": {},
   "source": [
    "Only six times in October and seven times in November. And never in December. Although I paid for the swimming pool every month. Not so good."
   ]
  },
  {
   "cell_type": "markdown",
   "metadata": {},
   "source": [
    "#### 4.3.5. Other activities\n",
    "\n",
    "Let's look at all of them together and without null values."
   ]
  },
  {
   "cell_type": "code",
   "execution_count": 52,
   "metadata": {
    "scrolled": true
   },
   "outputs": [
    {
     "data": {
      "text/html": [
       "<div>\n",
       "<style scoped>\n",
       "    .dataframe tbody tr th:only-of-type {\n",
       "        vertical-align: middle;\n",
       "    }\n",
       "\n",
       "    .dataframe tbody tr th {\n",
       "        vertical-align: top;\n",
       "    }\n",
       "\n",
       "    .dataframe thead th {\n",
       "        text-align: right;\n",
       "    }\n",
       "</style>\n",
       "<table border=\"1\" class=\"dataframe\">\n",
       "  <thead>\n",
       "    <tr style=\"text-align: right;\">\n",
       "      <th></th>\n",
       "      <th>count</th>\n",
       "      <th>mean</th>\n",
       "      <th>std</th>\n",
       "      <th>min</th>\n",
       "      <th>25%</th>\n",
       "      <th>50%</th>\n",
       "      <th>75%</th>\n",
       "      <th>max</th>\n",
       "    </tr>\n",
       "  </thead>\n",
       "  <tbody>\n",
       "    <tr>\n",
       "      <th>Duration: Calisthenics (min)</th>\n",
       "      <td>10.0</td>\n",
       "      <td>17.3</td>\n",
       "      <td>14.757672</td>\n",
       "      <td>3.0</td>\n",
       "      <td>4.0</td>\n",
       "      <td>13.0</td>\n",
       "      <td>31.75</td>\n",
       "      <td>36.0</td>\n",
       "    </tr>\n",
       "    <tr>\n",
       "      <th>Duration: Gymnastics (min)</th>\n",
       "      <td>1.0</td>\n",
       "      <td>15.0</td>\n",
       "      <td>NaN</td>\n",
       "      <td>15.0</td>\n",
       "      <td>15.0</td>\n",
       "      <td>15.0</td>\n",
       "      <td>15.00</td>\n",
       "      <td>15.0</td>\n",
       "    </tr>\n",
       "    <tr>\n",
       "      <th>Duration: Pilates (min)</th>\n",
       "      <td>3.0</td>\n",
       "      <td>19.0</td>\n",
       "      <td>3.464102</td>\n",
       "      <td>15.0</td>\n",
       "      <td>18.0</td>\n",
       "      <td>21.0</td>\n",
       "      <td>21.00</td>\n",
       "      <td>21.0</td>\n",
       "    </tr>\n",
       "  </tbody>\n",
       "</table>\n",
       "</div>"
      ],
      "text/plain": [
       "                              count  mean        std   min   25%   50%    75%  \\\n",
       "Duration: Calisthenics (min)   10.0  17.3  14.757672   3.0   4.0  13.0  31.75   \n",
       "Duration: Gymnastics (min)      1.0  15.0        NaN  15.0  15.0  15.0  15.00   \n",
       "Duration: Pilates (min)         3.0  19.0   3.464102  15.0  18.0  21.0  21.00   \n",
       "\n",
       "                               max  \n",
       "Duration: Calisthenics (min)  36.0  \n",
       "Duration: Gymnastics (min)    15.0  \n",
       "Duration: Pilates (min)       21.0  "
      ]
     },
     "execution_count": 52,
     "metadata": {},
     "output_type": "execute_result"
    }
   ],
   "source": [
    "calisthenics = data['Duration: Calisthenics (min)']\n",
    "calisthenics = calisthenics[calisthenics != 0]\n",
    "calisthenics = calisthenics.describe()\n",
    "\n",
    "gymnastics = data['Duration: Gymnastics (min)']\n",
    "gymnastics = gymnastics[gymnastics != 0]\n",
    "gymnastics = gymnastics.describe()\n",
    "\n",
    "pilates = data['Duration: Pilates (min)']\n",
    "pilates = pilates[pilates != 0]\n",
    "pilates = pilates.describe()\n",
    "\n",
    "other_activities = [calisthenics, gymnastics, pilates]\n",
    "other_activities = pd.DataFrame(other_activities)\n",
    "other_activities"
   ]
  },
  {
   "cell_type": "markdown",
   "metadata": {},
   "source": [
    "So. I did calisthenics 10 times in three months, pilates three tines, and gymnastics only one time about 15-20 minutes every kind of it. It's a failure. I'm frustrated.\n",
    "\n",
    "## 5. Results and outputs\n",
    "\n",
    "So we explored data from the Google Fit application for three months. We saw which data we have, we cleaned them, reorganized, and described. We identified relationships and patterns and drew graphics to illustrate them. Now we can make some conclusions.\n",
    "\n",
    "- Every person even he or she is very unsportive does some sports every day one way or another because every movement burns calories in our body.\n",
    "- Every person who wants to go in for sports needs strong motivation so as not to give up in a few days.\n",
    "- And if you don't have time for sport - just walk. This really may compensate for the lack of sports activity in our lives.\n",
    "\n",
    "Working with data allows us to learn more about the phenomena that surround us, draw scientific conclusions that shed light on what was previously considered unknowable, and help to make informed decisions in all areas of application. That's why I like data and data analysis. I hope to continue my studies and if I find something interesting, I'll share it with people."
   ]
  },
  {
   "cell_type": "code",
   "execution_count": null,
   "metadata": {},
   "outputs": [],
   "source": []
  }
 ],
 "metadata": {
  "kernelspec": {
   "display_name": "Python 3",
   "language": "python",
   "name": "python3"
  },
  "language_info": {
   "codemirror_mode": {
    "name": "ipython",
    "version": 3
   },
   "file_extension": ".py",
   "mimetype": "text/x-python",
   "name": "python",
   "nbconvert_exporter": "python",
   "pygments_lexer": "ipython3",
   "version": "3.7.7"
  },
  "toc": {
   "base_numbering": 1,
   "nav_menu": {},
   "number_sections": true,
   "sideBar": true,
   "skip_h1_title": false,
   "title_cell": "Table of Contents",
   "title_sidebar": "Contents",
   "toc_cell": false,
   "toc_position": {
    "height": "calc(100% - 180px)",
    "left": "10px",
    "top": "150px",
    "width": "256px"
   },
   "toc_section_display": true,
   "toc_window_display": false
  },
  "varInspector": {
   "cols": {
    "lenName": 16,
    "lenType": 16,
    "lenVar": 40
   },
   "kernels_config": {
    "python": {
     "delete_cmd_postfix": "",
     "delete_cmd_prefix": "del ",
     "library": "var_list.py",
     "varRefreshCmd": "print(var_dic_list())"
    },
    "r": {
     "delete_cmd_postfix": ") ",
     "delete_cmd_prefix": "rm(",
     "library": "var_list.r",
     "varRefreshCmd": "cat(var_dic_list()) "
    }
   },
   "types_to_exclude": [
    "module",
    "function",
    "builtin_function_or_method",
    "instance",
    "_Feature"
   ],
   "window_display": false
  }
 },
 "nbformat": 4,
 "nbformat_minor": 2
}
